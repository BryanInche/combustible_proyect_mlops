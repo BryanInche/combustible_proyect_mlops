{
 "cells": [
  {
   "cell_type": "markdown",
   "metadata": {
    "application/vnd.databricks.v1+cell": {
     "cellMetadata": {},
     "inputWidgets": {},
     "nuid": "da825a09-2d74-4ec8-a85b-d19bb3e18ee3",
     "showTitle": false,
     "title": ""
    }
   },
   "source": [
    "## 1. Extraccion de Datos"
   ]
  },
  {
   "cell_type": "markdown",
   "metadata": {
    "application/vnd.databricks.v1+cell": {
     "cellMetadata": {},
     "inputWidgets": {},
     "nuid": "9f4fc628-79f2-4f74-9840-3f8d6e05ef18",
     "showTitle": false,
     "title": ""
    }
   },
   "source": [
    "### 1.1 Obtencion de datos Proprocesados"
   ]
  },
  {
   "cell_type": "code",
   "execution_count": 0,
   "metadata": {
    "application/vnd.databricks.v1+cell": {
     "cellMetadata": {
      "byteLimit": 2048000,
      "rowLimit": 10000
     },
     "inputWidgets": {},
     "nuid": "9dc7a238-a7d2-4590-9a7a-6bfd11b84616",
     "showTitle": false,
     "title": ""
    }
   },
   "outputs": [],
   "source": [
    "import pandas as pd\n",
    "from io import BytesIO\n",
    "from minio import Minio\n",
    "import urllib3\n",
    "# Establecer el número máximo de columnas a mostrar\n",
    "pd.set_option('display.max_columns', None)\n",
    "pd.set_option('display.max_rows', None)\n",
    "# Conectar al servidor de MinIO\n",
    "client = Minio(\n",
    "    #\"minio.minio-user.svc.cluster.local:80\",  # Dirección del servidor MinIO\n",
    "    \"192.168.25.223\",  # Dirección del servidor MinIO\n",
    "    access_key=\"c9iXL6uoEu8r35odfMLV\",         # Clave de acceso\n",
    "    secret_key=\"r3Wx21EmA41gB3mH65mvBVG9sH3lIMPwSmD0WMtI\",  # Clave secreta\n",
    "    secure=False,  # Cambia a True si usas HTTPS\n",
    "    http_client=urllib3.PoolManager(cert_reqs='CERT_NONE')  # Ignora la verificación del certificado\n",
    ")\n",
    "\n",
    "# Nombre del bucket y del archivo\n",
    "bucket_name = 'hudbayprocessed'\n",
    "object_name = 'proyectocombustible_processed/table_delta_28.parquet'  # Nombre del archivo Parquet que quieres leer\n",
    "\n",
    "# Obtener el archivo Parquet del bucket\n",
    "response = client.get_object(bucket_name, object_name)\n",
    "data = response.read()\n",
    "\n",
    "# Convertir los datos leídos en un DataFrame de Pandas\n",
    "parquet_buffer = BytesIO(data)\n",
    "datos = pd.read_parquet(parquet_buffer)\n",
    "\n",
    "# Mostrar el DataFrame\n",
    "datos.head()"
   ]
  },
  {
   "cell_type": "code",
   "execution_count": 0,
   "metadata": {
    "application/vnd.databricks.v1+cell": {
     "cellMetadata": {
      "byteLimit": 2048000,
      "rowLimit": 10000
     },
     "inputWidgets": {},
     "nuid": "0f4c2c88-1634-4845-a384-bf3d761b7693",
     "showTitle": false,
     "title": ""
    }
   },
   "outputs": [],
   "source": [
    "import pyarrow.parquet as pq\n",
    "import skforecast\n",
    "from skforecast.ForecasterAutoreg import ForecasterAutoreg\n",
    "from skforecast.ForecasterAutoregCustom import ForecasterAutoregCustom\n",
    "from skforecast.ForecasterAutoregDirect import ForecasterAutoregDirect\n",
    "from skforecast.model_selection import grid_search_forecaster\n",
    "from skforecast.model_selection import backtesting_forecaster\n",
    "from skforecast.utils import save_forecaster\n",
    "from skforecast.utils import load_forecaster\n",
    "import pandas as pd\n",
    "\n",
    "# Configurar pandas para que muestre todas las filas y columnas\n",
    "pd.set_option('display.max_rows', None)  # Sin límite en el número de filas\n",
    "pd.set_option('display.max_columns', None)  # Sin límite en el número de columnas\n",
    "\n",
    "ruta_carpeta_parquet = \"/dbfs/mnt/datalakemlopsd4m/processed/proyectocombustible_processed/hudbay/table_delta_28.parquet\"\n",
    "tabla = pq.read_table(ruta_carpeta_parquet)\n",
    "\n",
    "# Convertir a DataFrame de pandas y mostrar las primeras filas\n",
    "datos = tabla.to_pandas()\n",
    "datos.head(1)"
   ]
  },
  {
   "cell_type": "markdown",
   "metadata": {
    "application/vnd.databricks.v1+cell": {
     "cellMetadata": {},
     "inputWidgets": {},
     "nuid": "cbc59437-2abd-4ff2-a686-e35a565ece5f",
     "showTitle": false,
     "title": ""
    }
   },
   "source": [
    "### 1.2 Revision de los datos Extraidos"
   ]
  },
  {
   "cell_type": "code",
   "execution_count": 0,
   "metadata": {
    "application/vnd.databricks.v1+cell": {
     "cellMetadata": {
      "byteLimit": 2048000,
      "rowLimit": 10000
     },
     "inputWidgets": {},
     "nuid": "9b1105db-22a1-4ebd-8347-88e0390811b9",
     "showTitle": false,
     "title": ""
    }
   },
   "outputs": [],
   "source": [
    "datos.shape"
   ]
  },
  {
   "cell_type": "markdown",
   "metadata": {
    "application/vnd.databricks.v1+cell": {
     "cellMetadata": {},
     "inputWidgets": {},
     "nuid": "420d5974-6139-4096-b607-f5409a0a749b",
     "showTitle": false,
     "title": ""
    }
   },
   "source": [
    "Verificar si hay valores Nulos"
   ]
  },
  {
   "cell_type": "code",
   "execution_count": 0,
   "metadata": {
    "application/vnd.databricks.v1+cell": {
     "cellMetadata": {
      "byteLimit": 2048000,
      "rowLimit": 10000
     },
     "inputWidgets": {},
     "nuid": "bd4353b9-2a47-4534-b7a2-f69fec006224",
     "showTitle": false,
     "title": ""
    }
   },
   "outputs": [],
   "source": [
    "datos.isnull().sum()"
   ]
  },
  {
   "cell_type": "code",
   "execution_count": 0,
   "metadata": {
    "application/vnd.databricks.v1+cell": {
     "cellMetadata": {
      "byteLimit": 2048000,
      "rowLimit": 10000
     },
     "inputWidgets": {},
     "nuid": "6d936af2-22e8-48e1-8260-7e23a3dabfb6",
     "showTitle": false,
     "title": ""
    }
   },
   "outputs": [],
   "source": [
    "#Ver la fecha minima y maxima\n",
    "datos['instant_date_t'].min(), datos['instant_date_t'].max(),"
   ]
  },
  {
   "cell_type": "code",
   "execution_count": 0,
   "metadata": {
    "application/vnd.databricks.v1+cell": {
     "cellMetadata": {
      "byteLimit": 2048000,
      "rowLimit": 10000
     },
     "inputWidgets": {},
     "nuid": "6c7eab7d-1f40-4bd4-90da-c42c7d576142",
     "showTitle": false,
     "title": ""
    }
   },
   "outputs": [],
   "source": [
    "#ve los nombres de las columnas\n",
    "datos.columns"
   ]
  },
  {
   "cell_type": "markdown",
   "metadata": {
    "application/vnd.databricks.v1+cell": {
     "cellMetadata": {},
     "inputWidgets": {},
     "nuid": "c07872b1-9e5c-4d48-881e-7b78aa611244",
     "showTitle": false,
     "title": ""
    }
   },
   "source": [
    "## 2.  Preparacion de datos para Analitica Predictiva"
   ]
  },
  {
   "cell_type": "markdown",
   "metadata": {
    "application/vnd.databricks.v1+cell": {
     "cellMetadata": {},
     "inputWidgets": {},
     "nuid": "f1733534-52d5-4ecc-a221-93da3821dffb",
     "showTitle": false,
     "title": ""
    }
   },
   "source": [
    "### 2. Limpieza de valores Nulos"
   ]
  },
  {
   "cell_type": "code",
   "execution_count": 0,
   "metadata": {
    "application/vnd.databricks.v1+cell": {
     "cellMetadata": {
      "byteLimit": 2048000,
      "rowLimit": 10000
     },
     "inputWidgets": {},
     "nuid": "23936359-e67a-411d-afdf-75f1bb7820a7",
     "showTitle": false,
     "title": ""
    }
   },
   "outputs": [],
   "source": [
    "# 3.1 Supongamos que tienes un DataFrame llamado datos\n",
    "valores_nulos = datos.isnull().sum()\n",
    "valores_nulos_ordenados = valores_nulos.sort_values(ascending=False)\n",
    "porcentaje_nulos = (valores_nulos_ordenados / len(datos)) * 100\n",
    "columnas_a_eliminar = porcentaje_nulos[porcentaje_nulos > 40].index\n",
    "datos = datos.drop(columnas_a_eliminar, axis=1)"
   ]
  },
  {
   "cell_type": "code",
   "execution_count": 0,
   "metadata": {
    "application/vnd.databricks.v1+cell": {
     "cellMetadata": {
      "byteLimit": 2048000,
      "rowLimit": 10000
     },
     "inputWidgets": {},
     "nuid": "5dbb530c-8c6f-4152-bfbf-d8b54914a624",
     "showTitle": false,
     "title": ""
    }
   },
   "outputs": [],
   "source": [
    "porcentaje_nulos"
   ]
  },
  {
   "cell_type": "code",
   "execution_count": 0,
   "metadata": {
    "application/vnd.databricks.v1+cell": {
     "cellMetadata": {
      "byteLimit": 2048000,
      "rowLimit": 10000
     },
     "inputWidgets": {},
     "nuid": "381aa230-b050-4902-a5a8-5262dac843c5",
     "showTitle": false,
     "title": ""
    }
   },
   "outputs": [],
   "source": [
    "columnas_a_eliminar"
   ]
  },
  {
   "cell_type": "code",
   "execution_count": 0,
   "metadata": {
    "application/vnd.databricks.v1+cell": {
     "cellMetadata": {
      "byteLimit": 2048000,
      "rowLimit": 10000
     },
     "inputWidgets": {},
     "nuid": "1a8db7fd-e462-4fec-b90b-f154f4fbc76d",
     "showTitle": false,
     "title": ""
    }
   },
   "outputs": [],
   "source": [
    "datos.shape"
   ]
  },
  {
   "cell_type": "code",
   "execution_count": 0,
   "metadata": {
    "application/vnd.databricks.v1+cell": {
     "cellMetadata": {
      "byteLimit": 2048000,
      "rowLimit": 10000
     },
     "inputWidgets": {},
     "nuid": "0b46e6d3-8528-4f93-a80b-d7c310c1ec68",
     "showTitle": false,
     "title": ""
    }
   },
   "outputs": [],
   "source": [
    "datos.dtypes"
   ]
  },
  {
   "cell_type": "code",
   "execution_count": 0,
   "metadata": {
    "application/vnd.databricks.v1+cell": {
     "cellMetadata": {
      "byteLimit": 2048000,
      "rowLimit": 10000
     },
     "inputWidgets": {},
     "nuid": "8ff25f41-7916-426b-829e-c966d10e0027",
     "showTitle": false,
     "title": ""
    }
   },
   "outputs": [],
   "source": [
    "#4.1 Eliminando columnas especificas que no aportan informacion ( # errors='ignore':ignore cualquier error si alguna de las columnas especificadas no se encuentra en el DataFrame.)\n",
    "datos = datos.drop(['equipment','nombre'], axis=1, errors='ignore') "
   ]
  },
  {
   "cell_type": "code",
   "execution_count": 0,
   "metadata": {
    "application/vnd.databricks.v1+cell": {
     "cellMetadata": {
      "byteLimit": 2048000,
      "rowLimit": 10000
     },
     "inputWidgets": {},
     "nuid": "9b83024a-4bb0-4493-928b-c63aee1f74f1",
     "showTitle": false,
     "title": ""
    }
   },
   "outputs": [],
   "source": [
    "datos.shape"
   ]
  },
  {
   "cell_type": "code",
   "execution_count": 0,
   "metadata": {
    "application/vnd.databricks.v1+cell": {
     "cellMetadata": {
      "byteLimit": 2048000,
      "rowLimit": 10000
     },
     "inputWidgets": {},
     "nuid": "37fad6d2-82b1-4bc2-a847-c22366121817",
     "showTitle": false,
     "title": ""
    }
   },
   "outputs": [],
   "source": [
    "# 3.4 Rellenar los valores nulos con ceros en todo el DataFrame\n",
    "datos = datos.fillna(0)"
   ]
  },
  {
   "cell_type": "code",
   "execution_count": 0,
   "metadata": {
    "application/vnd.databricks.v1+cell": {
     "cellMetadata": {
      "byteLimit": 2048000,
      "rowLimit": 10000
     },
     "inputWidgets": {},
     "nuid": "cf0d3174-3c59-4e4a-a39b-73d2646bad49",
     "showTitle": false,
     "title": ""
    }
   },
   "outputs": [],
   "source": [
    "datos.isnull().sum()"
   ]
  },
  {
   "cell_type": "markdown",
   "metadata": {
    "application/vnd.databricks.v1+cell": {
     "cellMetadata": {},
     "inputWidgets": {},
     "nuid": "cac3a491-e68c-420d-9239-2d6d45abb32a",
     "showTitle": false,
     "title": ""
    }
   },
   "source": [
    "## 2.1 Tratamiento de Variables Categoricas"
   ]
  },
  {
   "cell_type": "markdown",
   "metadata": {
    "application/vnd.databricks.v1+cell": {
     "cellMetadata": {},
     "inputWidgets": {},
     "nuid": "d4113c02-320a-46ce-a0c0-d34b6083d840",
     "showTitle": false,
     "title": ""
    }
   },
   "source": [
    "### 2.1.1 Metodo 1 - Usar un bucle para realizar el codigo de One Hot Encoding"
   ]
  },
  {
   "cell_type": "markdown",
   "metadata": {
    "application/vnd.databricks.v1+cell": {
     "cellMetadata": {},
     "inputWidgets": {},
     "nuid": "d4927e54-89a6-4c5f-9230-4a1beda51f1e",
     "showTitle": false,
     "title": ""
    }
   },
   "source": [
    "2.1.1.1 VARIABLE Status Truck"
   ]
  },
  {
   "cell_type": "code",
   "execution_count": 0,
   "metadata": {
    "application/vnd.databricks.v1+cell": {
     "cellMetadata": {
      "byteLimit": 2048000,
      "rowLimit": 10000
     },
     "inputWidgets": {},
     "nuid": "8bc7f80a-9572-4733-b46c-3c18aaf10519",
     "showTitle": false,
     "title": ""
    }
   },
   "outputs": [],
   "source": [
    "# import pandas as pd\n",
    "# # Obtener las categorías únicas\n",
    "# categorias = datos['Status Truck'].unique()\n",
    "\n",
    "# # Crear un DataFrame vacío con columnas para cada categoría, Diccionario one_hot_dict : categoria: clave es una categoría única de #nombre_equipo_carguio, y el [0]*len(datos) : valor asociado a cada clave es una lista de ceros de la misma longitud que el DataFrame \n",
    "# one_hot_dict = {categoria: [0]*len(datos) for categoria in categorias}\n",
    "\n",
    "# # Llenar el diccionario con 1s en las posiciones correspondientes\n",
    "# # idx es el índice de la fila, val es el valor de nombre_equipo_carguio en esa fila\n",
    "# # Si idx=0 y val='CF02', entonces one_hot_dict['CF02'][0] = 1\n",
    "# for idx, val in datos['Status Truck'].items():\n",
    "#     one_hot_dict[val][idx] = 1\n",
    "\n",
    "# # Convertir el diccionario a un DataFrame\n",
    "# one_hot_df = pd.DataFrame(one_hot_dict)\n",
    "\n",
    "# #Unir el DataFrame original con el codificado\n",
    "# datos = pd.concat([datos, one_hot_df], axis=1)\n",
    "\n",
    "# # # Mostrar el resultado\n",
    "# datos[['Status Truck','Cargando', 'Viaje Descargado', 'Viaje Cargado', 'Descarga']].head()"
   ]
  },
  {
   "cell_type": "markdown",
   "metadata": {
    "application/vnd.databricks.v1+cell": {
     "cellMetadata": {},
     "inputWidgets": {},
     "nuid": "925f31f4-2c7d-4b50-b8bb-8108cc3c27d8",
     "showTitle": false,
     "title": ""
    }
   },
   "source": [
    "### 2.2 Convertir la columna de tiempo a índice temporal si aún no lo es y Definimos Year, Month, week apartir de la fecha"
   ]
  },
  {
   "cell_type": "code",
   "execution_count": 0,
   "metadata": {
    "application/vnd.databricks.v1+cell": {
     "cellMetadata": {
      "byteLimit": 2048000,
      "rowLimit": 10000
     },
     "inputWidgets": {},
     "nuid": "520ce0a6-baf2-48f0-b048-9821bf40ab90",
     "showTitle": false,
     "title": ""
    }
   },
   "outputs": [],
   "source": [
    "import pandas as pd\n",
    "\n",
    "# 1.Convertir la columna de tiempo a índice temporal si aún no lo es\n",
    "datos.set_index('instant_date_t', inplace=True)\n",
    "\n",
    "# #2. Ordenamos el dataset de forma ascendente segun el datetime\n",
    "datos.sort_index(inplace=True)\n",
    "\n",
    "# 3. Crear nuevas columnas basadas en el índice temporal\n",
    "datos['year'] = datos.index.year  # year\n",
    "datos['month'] = datos.index.month # mes\n",
    "datos['day'] = datos.index.day  # Día del mes (1 al 31 del mes)\n",
    "datos['hour'] = datos.index.hour  # hora\n",
    "#datos['day_week_str'] = datos.index.strftime('%a')  # Día de la semana como string\n",
    "#datos['year_month'] = datos.index.strftime('%Y_%m')  # Formato 'Año_Mes'\n",
    "datos.head()\n",
    "# (Opcional) Si quieres devolver 'instant_date_t' como columna\n",
    "#datos = datos.reset_index()"
   ]
  },
  {
   "cell_type": "code",
   "execution_count": 0,
   "metadata": {
    "application/vnd.databricks.v1+cell": {
     "cellMetadata": {
      "byteLimit": 2048000,
      "rowLimit": 10000
     },
     "inputWidgets": {},
     "nuid": "63911b76-545a-41a9-a3b9-a07eb5171227",
     "showTitle": false,
     "title": ""
    }
   },
   "outputs": [],
   "source": [
    "#2.4 Identificamos la periocidad de la serie temporal\n",
    "df_time_diffs = datos.index.to_series().diff().dt.total_seconds()\n",
    "df_time_diffs.value_counts()"
   ]
  },
  {
   "cell_type": "markdown",
   "metadata": {
    "application/vnd.databricks.v1+cell": {
     "cellMetadata": {},
     "inputWidgets": {},
     "nuid": "812fff7f-bbab-42fb-ab6b-4ad331fb89c9",
     "showTitle": false,
     "title": ""
    }
   },
   "source": [
    "## 3 Filtro de datos a usar: Equipo de Acarreo a Analizar"
   ]
  },
  {
   "cell_type": "code",
   "execution_count": 0,
   "metadata": {
    "application/vnd.databricks.v1+cell": {
     "cellMetadata": {
      "byteLimit": 2048000,
      "rowLimit": 10000
     },
     "inputWidgets": {},
     "nuid": "3cd87bff-247f-4a14-b7b6-fe005e2404a7",
     "showTitle": false,
     "title": ""
    }
   },
   "outputs": [],
   "source": [
    "# datos_equipo_28 = datos[datos['eq_id'] == 28]"
   ]
  },
  {
   "cell_type": "markdown",
   "metadata": {
    "application/vnd.databricks.v1+cell": {
     "cellMetadata": {},
     "inputWidgets": {},
     "nuid": "44418260-39c5-4703-994e-e316bf2c03f7",
     "showTitle": false,
     "title": ""
    }
   },
   "source": [
    "## 4. Seleccion de Variables para Modelos de Machine Learning"
   ]
  },
  {
   "cell_type": "markdown",
   "metadata": {
    "application/vnd.databricks.v1+cell": {
     "cellMetadata": {},
     "inputWidgets": {},
     "nuid": "75753cef-627d-46c3-8b3a-25e0f54fff6c",
     "showTitle": false,
     "title": ""
    }
   },
   "source": [
    "### 4.1 Seleccion variables con StatModels, para regresion lineal (variables significativas estadisticamente basado en la Hipotesis Nula)"
   ]
  },
  {
   "cell_type": "code",
   "execution_count": 0,
   "metadata": {
    "application/vnd.databricks.v1+cell": {
     "cellMetadata": {
      "byteLimit": 2048000,
      "rowLimit": 10000
     },
     "inputWidgets": {},
     "nuid": "63632b8d-6ce8-4801-954f-6eb5a7398f32",
     "showTitle": false,
     "title": ""
    }
   },
   "outputs": [],
   "source": [
    "datos.columns.values"
   ]
  },
  {
   "cell_type": "code",
   "execution_count": 0,
   "metadata": {
    "application/vnd.databricks.v1+cell": {
     "cellMetadata": {
      "byteLimit": 2048000,
      "rowLimit": 10000
     },
     "inputWidgets": {},
     "nuid": "b663ee04-4657-48a4-a9d3-f9a788f48e7a",
     "showTitle": false,
     "title": ""
    }
   },
   "outputs": [],
   "source": [
    "import pandas as pd\n",
    "import statsmodels.api as sm\n",
    "\n",
    "# Supongamos que datos es tu DataFrame y has seleccionado tus características (X) y variable objetivo (y)\n",
    "# X = datos[['x', 'y', 'z', \n",
    "#         #'eq_id', \n",
    "#        'id_trabaj_t',\n",
    "#        'tramosidsnew_t',\n",
    "#         'Left Rear Axle Rpm',\n",
    "#        'Right Rear Axle Rpm', 'Left Exhaust Temperature',\n",
    "#        'Right Exhaust Temperature', 'Left Rear Parking Brake Oil Pressure',\n",
    "#        'Right Rear Parking Brake Oil Pressure', 'Parking Brake',\n",
    "#        'Brake Pump Pressure', 'Engine Oil Pressure', 'Actual Gear',\n",
    "#        'Ground Speed', 'Engine Speed', 'Transmission Input Speed',\n",
    "#        'Shift Lever Position', 'Throttle Position',\n",
    "#        'Percent Engine Load At Current Engine Speed', 'Truck Payload',\n",
    "#        'Transmission Output Speed', 'Transmission Output Speed #1',\n",
    "#        'Transmission Output Speed #2', 'Air Filter #1 Restriction ',\n",
    "#        'Air Filter #4 Restriction ', 'Air Filter #3 Restriction',\n",
    "#        'Air Filter #2 Restriction ', 'Tank Fuel Level',\n",
    "#        'Percent Fuel Position', 'Fuel Rail Pressure',\n",
    "#        'Cargando', 'Viaje Descargado', 'Viaje Cargado', 'Descarga']]  # Reemplaza 'feature1', 'feature2', 'feature3' con tus nombres de características\n",
    "X =  datos[datos.columns]\n",
    "\n",
    "y = datos['Fuel Consumption Rate'] # Reemplaza 'variable_objetivo' con el nombre de tu variable objetivo\n",
    "\n",
    "# Añadir constante a las características (intercepto)\n",
    "X = sm.add_constant(X)\n",
    "\n",
    "# Crear el modelo de regresión lineal con statsmodels\n",
    "modelo = sm.OLS(y, X).fit()\n",
    "\n",
    "# Imprimir un resumen estadistico del modelo\n",
    "print(modelo.summary())"
   ]
  },
  {
   "cell_type": "code",
   "execution_count": 0,
   "metadata": {
    "application/vnd.databricks.v1+cell": {
     "cellMetadata": {
      "byteLimit": 2048000,
      "rowLimit": 10000
     },
     "inputWidgets": {},
     "nuid": "5dd7d760-04f3-4795-8ff5-06684b590c47",
     "showTitle": false,
     "title": ""
    }
   },
   "outputs": [],
   "source": [
    "def results_summary_to_dataframe(results):\n",
    "    '''take the result of an statsmodel results table and transforms it into a dataframe'''\n",
    "    pvals = results.pvalues\n",
    "    coeff = results.params\n",
    "    conf_lower = results.conf_int()[0]\n",
    "    conf_higher = results.conf_int()[1]\n",
    "\n",
    "    results_df = pd.DataFrame({\"pvals\":pvals,\n",
    "                               \"coeff\":coeff,\n",
    "                               \"conf_lower\":conf_lower,\n",
    "                               \"conf_higher\":conf_higher\n",
    "                                })\n",
    "\n",
    "    #Reordering...\n",
    "    results_df = results_df[[\"coeff\",\"pvals\",\"conf_lower\",\"conf_higher\"]]\n",
    "    return results_df"
   ]
  },
  {
   "cell_type": "code",
   "execution_count": 0,
   "metadata": {
    "application/vnd.databricks.v1+cell": {
     "cellMetadata": {
      "byteLimit": 2048000,
      "rowLimit": 10000
     },
     "inputWidgets": {},
     "nuid": "e7ef0230-7238-4e40-8049-c3c0c078dac0",
     "showTitle": false,
     "title": ""
    }
   },
   "outputs": [],
   "source": [
    "results_summary_to_dataframe(modelo)"
   ]
  },
  {
   "cell_type": "markdown",
   "metadata": {
    "application/vnd.databricks.v1+cell": {
     "cellMetadata": {},
     "inputWidgets": {},
     "nuid": "1ebffe01-b206-43fa-9259-23656952326c",
     "showTitle": false,
     "title": ""
    }
   },
   "source": [
    "### 4.2 Ver Correlaciones entre mis variables"
   ]
  },
  {
   "cell_type": "code",
   "execution_count": 0,
   "metadata": {
    "application/vnd.databricks.v1+cell": {
     "cellMetadata": {
      "byteLimit": 2048000,
      "rowLimit": 10000
     },
     "inputWidgets": {},
     "nuid": "0748136c-7717-4a70-b350-d21dff5932f2",
     "showTitle": false,
     "title": ""
    }
   },
   "outputs": [],
   "source": [
    "import pandas as pd\n",
    "import seaborn as sns\n",
    "import matplotlib.pyplot as plt\n",
    "\n",
    "# Supongamos que tienes un DataFrame llamado 'datos'\n",
    "\n",
    "# Lista de variables que deseas analizar\n",
    "variables_a_analizar = ['Engine Coolant Temperature', 'Left Exhaust Temperature',\n",
    "       'Final Drive Oil Bypass Solenoid Status',\n",
    "       'Rear Axle Pump Drive Oil Divert Solenoid Status',\n",
    "       'Right Rear Axle Rpm', 'Fuel Pressure', 'Engine Speed',\n",
    "       'Brake Pump Unloader Solenoid Status', 'Shift Lever Position',\n",
    "       'Steering Accumulator Oil Pressure',\n",
    "       'Left Front Brake Oil Temperature', 'Truck Payload Cycle Fela',\n",
    "       'Turbocharger #3 Compressor Inlet Pressure (Absolute)',\n",
    "       'Service Brake', 'Fuel Rail Temperature',\n",
    "       'Desired Fuel Rail Pressure', 'Desired Brake Cooling Pump Speed',\n",
    "       'Differential (Axle) Lube Pressure', 'Diff Oil Temperature',\n",
    "       'Altitude Derate', 'Auto Lube Relay Status', 'Auto Retarder Mode',\n",
    "       'Fuel Actuator Position Command', 'Left Rear Strut Pressure',\n",
    "       'Transmission Oil Level Status', 'Air Filter #3 Restriction',\n",
    "       'Left Rear Parking Brake Oil Pressure',\n",
    "       'Steering Fluid Temperature', 'Engine Power Derate',\n",
    "       'Transmission Lockout Status', 'Engine Pre-Lube',\n",
    "       'Right Front To Left Front Strut Differential Pressure',\n",
    "       'Engine Coolant Pump Outlet Temperature', 'Engine Derate',\n",
    "       'Ambient Air Temperature', 'Right Rear Brake Oil Temperature',\n",
    "       'Right Rear Parking Brake Oil Pressure', 'Fuel Consumption Rate']\n",
    "\n",
    "# Filtrar el DataFrame para incluir solo las variables de interés\n",
    "datos_subset = datos[variables_a_analizar]\n",
    "\n",
    "# Crear una matriz de correlación para el subconjunto de variables\n",
    "matriz_correlacion = datos_subset.corr()\n",
    "\n",
    "# Configurar el estilo de Seaborn\n",
    "sns.set(style=\"whitegrid\")\n",
    "\n",
    "# Aumentar el tamaño del gráfico para mostrar más detalles\n",
    "plt.figure(figsize=(25, 8))  #ancho * altura\n",
    "\n",
    "# Crear un mapa de calor (heatmap) de la matriz de correlación con desplazamiento habilitado\n",
    "ax = sns.heatmap(matriz_correlacion, annot=True, fmt=\".2f\", cmap=\"coolwarm\", linewidths=.5)\n",
    "\n",
    "# Agregar etiquetas a los ejes X e Y\n",
    "ax.set_xticklabels(ax.get_xticklabels(), rotation=45, horizontalalignment='right', fontsize=8)\n",
    "ax.set_yticklabels(ax.get_yticklabels(), rotation=0, horizontalalignment='right', fontsize=8)\n",
    "\n",
    "# Ajustar el tamaño de las fuentes de los nombres de las variables (eje x)\n",
    "ax.tick_params(axis='x', labelsize=12)\n",
    "\n",
    "# Ajustar el tamaño de las fuentes de los nombres de las variables (eje y)\n",
    "ax.tick_params(axis='y', labelsize=12)\n",
    "\n",
    "plt.title(\"Matriz de Correlación Variables\")\n",
    "plt.show()"
   ]
  },
  {
   "cell_type": "code",
   "execution_count": 0,
   "metadata": {
    "application/vnd.databricks.v1+cell": {
     "cellMetadata": {
      "byteLimit": 2048000,
      "rowLimit": 10000
     },
     "inputWidgets": {},
     "nuid": "ba0fd912-7556-4164-9113-434dac2d18c9",
     "showTitle": false,
     "title": ""
    }
   },
   "outputs": [],
   "source": [
    "import pandas as pd\n",
    "import seaborn as sns\n",
    "import matplotlib.pyplot as plt\n",
    "\n",
    "# Supongamos que tienes un DataFrame llamado 'datos'\n",
    "\n",
    "# Lista de variables que deseas analizar\n",
    "variables_a_analizar = [\n",
    "        'Left Exhaust Temperature',\n",
    "        'Right Exhaust Temperature',  \n",
    "        'Parking Brake',\n",
    "        'Engine Speed', \n",
    "        'Shift Lever Position', 'Throttle Position',\n",
    "        'Percent Engine Load At Current Engine Speed',\n",
    "         'Air Filter #1 Restriction ',\n",
    "         'Air Filter #4 Restriction ', 'Air Filter #3 Restriction',\n",
    "         'Air Filter #2 Restriction ', \n",
    "        'Percent Fuel Position', 'Fuel Rail Pressure','Fuel Consumption Rate']\n",
    "\n",
    "# Filtrar el DataFrame para incluir solo las variables de interés\n",
    "datos_subset = datos[variables_a_analizar]\n",
    "\n",
    "# Crear una matriz de correlación para el subconjunto de variables\n",
    "matriz_correlacion = datos_subset.corr()\n",
    "\n",
    "# Configurar el estilo de Seaborn\n",
    "sns.set(style=\"whitegrid\")\n",
    "\n",
    "# Aumentar el tamaño del gráfico para mostrar más detalles\n",
    "plt.figure(figsize=(25, 8))  #ancho * altura\n",
    "\n",
    "# Crear un mapa de calor (heatmap) de la matriz de correlación con desplazamiento habilitado\n",
    "ax = sns.heatmap(matriz_correlacion, annot=True, fmt=\".2f\", cmap=\"coolwarm\", linewidths=.5)\n",
    "\n",
    "# Agregar etiquetas a los ejes X e Y\n",
    "ax.set_xticklabels(ax.get_xticklabels(), rotation=45, horizontalalignment='right', fontsize=8)\n",
    "ax.set_yticklabels(ax.get_yticklabels(), rotation=0, horizontalalignment='right', fontsize=8)\n",
    "\n",
    "# Ajustar el tamaño de las fuentes de los nombres de las variables (eje x)\n",
    "ax.tick_params(axis='x', labelsize=12)\n",
    "\n",
    "# Ajustar el tamaño de las fuentes de los nombres de las variables (eje y)\n",
    "ax.tick_params(axis='y', labelsize=12)\n",
    "\n",
    "plt.title(\"Matriz de Correlación Variables\")\n",
    "plt.show()"
   ]
  },
  {
   "cell_type": "markdown",
   "metadata": {
    "application/vnd.databricks.v1+cell": {
     "cellMetadata": {},
     "inputWidgets": {},
     "nuid": "e835baad-2784-4148-9c9d-93e50e611fc9",
     "showTitle": false,
     "title": ""
    }
   },
   "source": [
    "### 4.3 Ver la varianza de mis variables"
   ]
  },
  {
   "cell_type": "code",
   "execution_count": 0,
   "metadata": {
    "application/vnd.databricks.v1+cell": {
     "cellMetadata": {
      "byteLimit": 2048000,
      "rowLimit": 10000
     },
     "inputWidgets": {},
     "nuid": "faa480a7-9410-477f-85c9-82b0434b744e",
     "showTitle": false,
     "title": ""
    }
   },
   "outputs": [],
   "source": [
    "datos_varianza=datos[['Engine Coolant Temperature', 'Left Exhaust Temperature',\n",
    "       'Final Drive Oil Bypass Solenoid Status',\n",
    "       'Rear Axle Pump Drive Oil Divert Solenoid Status',\n",
    "       'Right Rear Axle Rpm', 'Fuel Pressure', 'Engine Speed',\n",
    "       'Brake Pump Unloader Solenoid Status', 'Shift Lever Position',\n",
    "       'Steering Accumulator Oil Pressure',\n",
    "       'Left Front Brake Oil Temperature', 'Truck Payload Cycle Fela',\n",
    "       'Turbocharger #3 Compressor Inlet Pressure (Absolute)',\n",
    "       'Service Brake', 'Fuel Rail Temperature',\n",
    "       'Desired Fuel Rail Pressure', 'Desired Brake Cooling Pump Speed',\n",
    "       'Differential (Axle) Lube Pressure', 'Diff Oil Temperature',\n",
    "       'Altitude Derate', 'Auto Lube Relay Status', 'Auto Retarder Mode',\n",
    "       'Fuel Actuator Position Command', 'Left Rear Strut Pressure',\n",
    "       'Transmission Oil Level Status', 'Air Filter #3 Restriction',\n",
    "       'Left Rear Parking Brake Oil Pressure',\n",
    "       'Steering Fluid Temperature', 'Engine Power Derate',\n",
    "       'Transmission Lockout Status', 'Engine Pre-Lube',\n",
    "       'Right Front To Left Front Strut Differential Pressure',\n",
    "       'Engine Coolant Pump Outlet Temperature', 'Engine Derate',\n",
    "       'Ambient Air Temperature', 'Right Rear Brake Oil Temperature',\n",
    "       'Right Rear Parking Brake Oil Pressure']]"
   ]
  },
  {
   "cell_type": "code",
   "execution_count": 0,
   "metadata": {
    "application/vnd.databricks.v1+cell": {
     "cellMetadata": {
      "byteLimit": 2048000,
      "rowLimit": 10000
     },
     "inputWidgets": {},
     "nuid": "3f005321-0ec7-4019-b47f-44506d96cd09",
     "showTitle": false,
     "title": ""
    }
   },
   "outputs": [],
   "source": [
    "desviacion_estandar_sorted"
   ]
  },
  {
   "cell_type": "code",
   "execution_count": 0,
   "metadata": {
    "application/vnd.databricks.v1+cell": {
     "cellMetadata": {
      "byteLimit": 2048000,
      "rowLimit": 10000
     },
     "inputWidgets": {},
     "nuid": "b12769ed-070c-4e8f-b244-56ed2640fb6f",
     "showTitle": false,
     "title": ""
    }
   },
   "outputs": [],
   "source": [
    "import pandas as pd\n",
    "import numpy as np\n",
    "import matplotlib.pyplot as plt\n",
    "\n",
    "# Calcular la varianza de cada columna\n",
    "desviacion_estandar = np.sqrt(datos_varianza.var())  #desviacion estandar \n",
    "\n",
    "# Redondear la varianza a 2 decimales\n",
    "#variance_rounded = variance.round(2)\n",
    "\n",
    "# Ordenar las varianzas de mayor a menor\n",
    "desviacion_estandar_sorted = desviacion_estandar.sort_values(ascending=False)\n",
    "\n",
    "# Graficar los resultados\n",
    "plt.figure(figsize=(10, 6))\n",
    "desviacion_estandar_sorted.plot(kind='bar')\n",
    "plt.title('Varianza de Variables del DataFrame')\n",
    "plt.xlabel('Variables')\n",
    "plt.ylabel('Varianza')\n",
    "# plt.xticks(rotation=45)\n",
    "plt.show()"
   ]
  },
  {
   "cell_type": "markdown",
   "metadata": {
    "application/vnd.databricks.v1+cell": {
     "cellMetadata": {},
     "inputWidgets": {},
     "nuid": "50941d55-7106-42cc-a4f9-8e58bc55c458",
     "showTitle": false,
     "title": ""
    }
   },
   "source": [
    "Variables clave para incluir en el modelo serían:\n",
    "- Fuel Rail Pressure (Presión del riel de combustible)\n",
    "- Truck Payload (Carga del camión)\n",
    "- Engine Speed (Velocidad del motor)\n",
    "- Throttle Position (Posición del acelerador)\n",
    "- Percent Engine Load (Carga del motor al % de la velocidad actual)\n",
    "- Ground Speed (Velocidad en tierra)\n",
    "- Percent Fuel Position (porcentaje de la inyección de combustible)\n",
    "- Tank Fuel Level (Nivel del tanque de combustible) **"
   ]
  },
  {
   "cell_type": "markdown",
   "metadata": {
    "application/vnd.databricks.v1+cell": {
     "cellMetadata": {},
     "inputWidgets": {},
     "nuid": "103243fd-4507-46b1-bd8f-602f6076532a",
     "showTitle": false,
     "title": ""
    }
   },
   "source": [
    "## 5. Analisis de Series Temporales"
   ]
  },
  {
   "cell_type": "markdown",
   "metadata": {
    "application/vnd.databricks.v1+cell": {
     "cellMetadata": {},
     "inputWidgets": {},
     "nuid": "f9ebea05-e5b6-49fc-b624-202ffc346d5c",
     "showTitle": false,
     "title": ""
    }
   },
   "source": [
    "#### 5.1 Serie Temporal con datos Originales"
   ]
  },
  {
   "cell_type": "code",
   "execution_count": 0,
   "metadata": {
    "application/vnd.databricks.v1+cell": {
     "cellMetadata": {
      "byteLimit": 2048000,
      "rowLimit": 10000
     },
     "inputWidgets": {},
     "nuid": "e1e47180-a444-4769-a297-5883f50e020f",
     "showTitle": false,
     "title": ""
    }
   },
   "outputs": [],
   "source": [
    "import matplotlib.pyplot as plt\n",
    " \n",
    "# Set pyplot style\n",
    "# Plot\n",
    "datos['Fuel Consumption Rate'].plot(title='Consumo Combustible - Time Plot', figsize=(10,6)) # datos['Fuel Consumption Rate'],indica que los valores de esta columna irán en el eje Y, el eje X considera el index\n",
    "plt.ylabel('Consumo Combustible (Galones)')   # X está implícito y toma los valores del índice del DataFrame\n",
    "plt.xlabel('Date')"
   ]
  },
  {
   "cell_type": "markdown",
   "metadata": {
    "application/vnd.databricks.v1+cell": {
     "cellMetadata": {},
     "inputWidgets": {},
     "nuid": "d12ff40f-da3d-4d10-906e-8c40d012d7b4",
     "showTitle": false,
     "title": ""
    }
   },
   "source": [
    "#### 5.2 Gráfico de líneas donde el eje X representa las fechas y el eje Y el consumo de combustible en galones"
   ]
  },
  {
   "cell_type": "markdown",
   "metadata": {
    "application/vnd.databricks.v1+cell": {
     "cellMetadata": {},
     "inputWidgets": {},
     "nuid": "6b7fa605-f99d-4e08-ba02-b00bcba1f607",
     "showTitle": false,
     "title": ""
    }
   },
   "source": [
    "Metodos para Eliminar Ruido de Datos"
   ]
  },
  {
   "cell_type": "markdown",
   "metadata": {
    "application/vnd.databricks.v1+cell": {
     "cellMetadata": {},
     "inputWidgets": {},
     "nuid": "da48db5e-8038-4dfb-b946-6d9d3894ed66",
     "showTitle": false,
     "title": ""
    }
   },
   "source": [
    "1. Suavizado con Media Móvil\n",
    "\n",
    "Por ejemplo si tenemos un consumo por dia, Consumo Diario = [10, 12, 14, 13, 15, 17, 20, 18, 16, 14]\n",
    "- Y decides usar una ventana de 3 días para el suavizado.\n",
    "- Resultados:\n",
    "\n",
    "El primer valor de la serie suavizada será 12 (promedio de los primeros 3 días).\n",
    "El segundo valor será 13 (promedio de los días 2, 3 y 4).\n",
    "Y así sucesivamente."
   ]
  },
  {
   "cell_type": "code",
   "execution_count": 0,
   "metadata": {
    "application/vnd.databricks.v1+cell": {
     "cellMetadata": {
      "byteLimit": 2048000,
      "rowLimit": 10000
     },
     "inputWidgets": {},
     "nuid": "4f43a44b-95ec-4a26-a347-92ada044a75a",
     "showTitle": false,
     "title": ""
    }
   },
   "outputs": [],
   "source": [
    "import plotly.graph_objs as go\n",
    "import plotly.express as px\n",
    "\n",
    "# Suavizado con media móvil\n",
    "window_size = 30  # Tamaño de la ventana de la media móvil (puedes ajustar esto según tus datos)\n",
    "datos['Smoothed Fuel Consumption Rate'] = datos['Fuel Consumption Rate'].rolling(window=window_size).mean()\n",
    "\n",
    "# Crear la figura interactiva con Plotly\n",
    "fig = go.Figure()\n",
    "\n",
    "# Agregar la línea del consumo de combustible suavizado\n",
    "fig.add_trace(go.Scatter(\n",
    "    x=datos.index,  # Eje X: Fechas\n",
    "    y=datos['Smoothed Fuel Consumption Rate'],  # Eje Y: Consumo suavizado\n",
    "    mode='lines',\n",
    "    name='Media Móvil',\n",
    "    line=dict(color='orange')\n",
    "))\n",
    "\n",
    "# Crear los ticks manualmente cada 3 días\n",
    "tick_values = pd.date_range(start=datos.index.min(), end=datos.index.max(), freq='2D')\n",
    "\n",
    "# Configurar los títulos y etiquetas de los ejes\n",
    "fig.update_layout(\n",
    "    title='Consumo Combustible - Time Plot',\n",
    "    xaxis_title='Fecha',\n",
    "    yaxis_title='Consumo Combustible (Galones)',\n",
    "    xaxis=dict(\n",
    "        tickformat='%Y-%m-%d',  # Formato para las fechas\n",
    "        tickangle=45,  # Rotar etiquetas del eje X\n",
    "        tickvals=tick_values,  # Colocar etiquetas cada 3 días\n",
    "        #dtick='D3'  # Mostrar cada 7 días en el eje X\n",
    "    ),\n",
    "    autosize=False,\n",
    "    width=1000,\n",
    "    height=600\n",
    ")\n",
    "\n",
    "# Mostrar el gráfico interactivo\n",
    "fig.show()"
   ]
  },
  {
   "cell_type": "markdown",
   "metadata": {
    "application/vnd.databricks.v1+cell": {
     "cellMetadata": {},
     "inputWidgets": {},
     "nuid": "e3c9e4ce-190e-4816-a661-45c6b3f896df",
     "showTitle": false,
     "title": ""
    }
   },
   "source": [
    "### 5.3 Analisis de Tendencia, Estacionalidad, Residuo"
   ]
  },
  {
   "cell_type": "code",
   "execution_count": 0,
   "metadata": {
    "application/vnd.databricks.v1+cell": {
     "cellMetadata": {
      "byteLimit": 2048000,
      "rowLimit": 10000
     },
     "inputWidgets": {},
     "nuid": "5dae4438-9700-4fe7-95a8-aaaac1401f52",
     "showTitle": false,
     "title": ""
    }
   },
   "outputs": [],
   "source": [
    "# # Interpolación para llenar valores faltantes\n",
    "# datos_interpolados = datos_reindexados.interpolate(method='linear')\n",
    "\n",
    "# # Alternativamente, puedes usar el método de llenado hacia adelante o hacia atrás\n",
    "# # datos_interpolados = datos_reindexados.fillna(method='ffill')  # Llenar hacia adelante\n",
    "# # datos_interpolados = datos_reindexados.fillna(method='bfill')  # Llenar hacia atrás\n",
    "\n",
    "# # Mostrar las primeras filas del DataFrame con interpolación\n",
    "# print(datos_interpolados.head())"
   ]
  },
  {
   "cell_type": "code",
   "execution_count": 0,
   "metadata": {
    "application/vnd.databricks.v1+cell": {
     "cellMetadata": {
      "byteLimit": 2048000,
      "rowLimit": 10000
     },
     "inputWidgets": {},
     "nuid": "0ba08df2-ea0e-4d57-a1f2-bcba21a826c1",
     "showTitle": false,
     "title": ""
    }
   },
   "outputs": [],
   "source": [
    "# # Eliminar duplicados conservando solo la primera ocurrencia\n",
    "# datos_equipo_28_enero_sin_duplicados = datos_equipo_28_enero[~datos_equipo_28_enero.index.duplicated(keep='first')]\n",
    "\n",
    "# # Mostrar las primeras filas del DataFrame limpio\n",
    "# datos_equipo_28_enero_sin_duplicados.head()"
   ]
  },
  {
   "cell_type": "code",
   "execution_count": 0,
   "metadata": {
    "application/vnd.databricks.v1+cell": {
     "cellMetadata": {
      "byteLimit": 2048000,
      "rowLimit": 10000
     },
     "inputWidgets": {},
     "nuid": "67261d13-f677-4d34-bc73-92525256fe0d",
     "showTitle": false,
     "title": ""
    }
   },
   "outputs": [],
   "source": [
    "datos.index"
   ]
  },
  {
   "cell_type": "code",
   "execution_count": 0,
   "metadata": {
    "application/vnd.databricks.v1+cell": {
     "cellMetadata": {
      "byteLimit": 2048000,
      "rowLimit": 10000
     },
     "inputWidgets": {},
     "nuid": "7ff3ba29-fb78-4724-92b9-8c2ed65dd140",
     "showTitle": false,
     "title": ""
    }
   },
   "outputs": [],
   "source": [
    "from statsmodels.tsa.seasonal import STL\n",
    "import matplotlib.pyplot as plt\n",
    "\n",
    "\n",
    "# Asegúrate de que el índice es de tipo DatetimeIndex\n",
    "# datos_equipo_32.index = pd.to_datetime(datos_equipo_32.index)\n",
    "\n",
    "window_size = 15\n",
    "\n",
    "# Define el período de estacionalidad (por ejemplo, si los datos son diarios y la estacionalidad es semanal, el período sería 7)\n",
    "seasonal_period = 2 # Ajusta este valor según la estacionalidad de tus datos\n",
    "\n",
    "# Descomposición STL\n",
    "stl = STL(datos['Fuel Consumption Rate'], period=seasonal_period, seasonal=window_size)\n",
    "result = stl.fit()\n",
    "\n",
    "# Graficar la tendencia, estacionalidad y residuos\n",
    "plt.figure(figsize=(12,8))\n",
    "plt.subplot(3,1,1)\n",
    "plt.plot(result.trend, label='Tendencia')\n",
    "plt.legend()\n",
    "plt.subplot(3,1,2)\n",
    "plt.plot(result.seasonal, label='Estacionalidad')\n",
    "plt.legend()\n",
    "plt.subplot(3,1,3)\n",
    "plt.plot(result.resid, label='Residuo')\n",
    "plt.legend()\n",
    "plt.tight_layout()\n",
    "plt.show()"
   ]
  },
  {
   "cell_type": "markdown",
   "metadata": {
    "application/vnd.databricks.v1+cell": {
     "cellMetadata": {},
     "inputWidgets": {},
     "nuid": "a4eee8bd-68af-449c-bdc4-475ae25eadb3",
     "showTitle": false,
     "title": ""
    }
   },
   "source": [
    "### 5.4 Analisis Autoregresivo de la Serie Temporal"
   ]
  },
  {
   "cell_type": "code",
   "execution_count": 0,
   "metadata": {
    "application/vnd.databricks.v1+cell": {
     "cellMetadata": {
      "byteLimit": 2048000,
      "rowLimit": 10000
     },
     "inputWidgets": {},
     "nuid": "c106ec6a-53f6-4c55-bc84-0ed7cc157d50",
     "showTitle": false,
     "title": ""
    }
   },
   "outputs": [],
   "source": [
    "from statsmodels.graphics.tsaplots import plot_acf\n",
    "# Hacer un gráfico de autocorrelación para la serie de consumo de combustible\n",
    "plot_acf(datos['Fuel Consumption Rate'], lags=800)  # 'lags=40' son los retardos\n",
    "plt.title('Autocorrelación del Consumo de Combustible')\n",
    "plt.show()"
   ]
  },
  {
   "cell_type": "markdown",
   "metadata": {
    "application/vnd.databricks.v1+cell": {
     "cellMetadata": {},
     "inputWidgets": {},
     "nuid": "ba05ad57-7bc1-4385-8e7d-c7307d4ac3bf",
     "showTitle": false,
     "title": ""
    }
   },
   "source": [
    "### Seleccion de Variables para Modelo IA"
   ]
  },
  {
   "cell_type": "code",
   "execution_count": 0,
   "metadata": {
    "application/vnd.databricks.v1+cell": {
     "cellMetadata": {
      "byteLimit": 2048000,
      "rowLimit": 10000
     },
     "inputWidgets": {},
     "nuid": "d4592b75-120f-4e95-936f-3cbe84c10214",
     "showTitle": false,
     "title": ""
    }
   },
   "outputs": [],
   "source": [
    "datos.columns"
   ]
  },
  {
   "cell_type": "code",
   "execution_count": 0,
   "metadata": {
    "application/vnd.databricks.v1+cell": {
     "cellMetadata": {
      "byteLimit": 2048000,
      "rowLimit": 10000
     },
     "inputWidgets": {},
     "nuid": "18f02789-1a25-4e3d-b145-41fa751763d3",
     "showTitle": false,
     "title": ""
    }
   },
   "outputs": [],
   "source": [
    "#En Multivariado, poner la variable a predecir, en la columna final\n",
    "c_variables = ['Engine Coolant Temperature', 'Left Exhaust Temperature','Fuel Consumption Rate']\n",
    "\n",
    "\n",
    "datos_df = datos[c_variables]  # Modelo Multivariado\n",
    "datos_df.head()  "
   ]
  },
  {
   "cell_type": "markdown",
   "metadata": {
    "application/vnd.databricks.v1+cell": {
     "cellMetadata": {},
     "inputWidgets": {},
     "nuid": "77e158c8-fdbe-4eb9-a37b-d637040f3275",
     "showTitle": false,
     "title": ""
    }
   },
   "source": [
    "### 3. Escalar/Normalizar los datos\n",
    "Es requerido para garantizar que todas las caracteristicas se encuentren en el mismo rango de valores, lo que facilita el entrenamiento del Modelo y las predicciones"
   ]
  },
  {
   "cell_type": "markdown",
   "metadata": {
    "application/vnd.databricks.v1+cell": {
     "cellMetadata": {},
     "inputWidgets": {},
     "nuid": "68552992-a8c3-4d07-bc93-6d5f7465aa00",
     "showTitle": false,
     "title": ""
    }
   },
   "source": [
    "Importante para escalar: Filtrar solo las columnas numéricas y preferible no considerar la variable TARGET"
   ]
  },
  {
   "cell_type": "code",
   "execution_count": 0,
   "metadata": {
    "application/vnd.databricks.v1+cell": {
     "cellMetadata": {
      "byteLimit": 2048000,
      "rowLimit": 10000
     },
     "inputWidgets": {},
     "nuid": "44a5369e-9be5-4528-b189-3505cc662684",
     "showTitle": false,
     "title": ""
    }
   },
   "outputs": [],
   "source": [
    "import numpy as np\n",
    "\n",
    "def escalar_por_variables_especificas(dataframe, variables_a_escalar, medias, desviaciones_estandar):\n",
    "  \"\"\"\n",
    "  Escala solo las variables especificadas en un dataframe de forma independiente.\n",
    "\n",
    "  Args:\n",
    "    dataframe: El dataframe que se va a escalar.\n",
    "    variables_a_escalar: Una lista que contiene los nombres de las variables que se van a escalar.\n",
    "    medias: Un diccionario que contiene la media de cada variable.\n",
    "    desviaciones_estandar: Un diccionario que contiene la desviación estándar de cada variable.\n",
    "\n",
    "  Returns:\n",
    "    El dataframe escalado.\n",
    "  \"\"\"\n",
    "  dataframe_escalado = dataframe.copy()\n",
    "  for columna in dataframe.columns:\n",
    "    if columna in variables_a_escalar:\n",
    "      dataframe_escalado[columna] = (dataframe[columna] - medias[columna]) / desviaciones_estandar[columna]\n",
    "  return dataframe_escalado\n",
    "\n",
    "\n",
    "# Seleccionar todas las columnas excepto la variable objetivo\n",
    "datos_x_escalar = datos_df.drop(columns=['Fuel Consumption Rate'])\n",
    "\n",
    "variables_a_escalar = datos_x_escalar.columns\n",
    "\n",
    "# Calcular medias y desviaciones estándar para todas las variables\n",
    "medias = datos_x_escalar.mean()\n",
    "desviaciones_estandar = datos_x_escalar.std()\n",
    "\n",
    "# Escalar solo las variables especificadas en el dataframe train\n",
    "df_escalado = escalar_por_variables_especificas(datos_x_escalar, variables_a_escalar, medias, desviaciones_estandar)"
   ]
  },
  {
   "cell_type": "code",
   "execution_count": 0,
   "metadata": {
    "application/vnd.databricks.v1+cell": {
     "cellMetadata": {
      "byteLimit": 2048000,
      "rowLimit": 10000
     },
     "inputWidgets": {},
     "nuid": "9a00a56b-2c7b-44ba-a208-b1e463ad4730",
     "showTitle": false,
     "title": ""
    }
   },
   "outputs": [],
   "source": [
    "df_escalado.head()"
   ]
  },
  {
   "cell_type": "markdown",
   "metadata": {
    "application/vnd.databricks.v1+cell": {
     "cellMetadata": {},
     "inputWidgets": {},
     "nuid": "98c9d722-9376-4f2f-b30f-4e6ac44c16f3",
     "showTitle": false,
     "title": ""
    }
   },
   "source": [
    "### Armamos y Unimos los Datos Escalados con Target Original"
   ]
  },
  {
   "cell_type": "code",
   "execution_count": 0,
   "metadata": {
    "application/vnd.databricks.v1+cell": {
     "cellMetadata": {
      "byteLimit": 2048000,
      "rowLimit": 10000
     },
     "inputWidgets": {},
     "nuid": "ccf8804b-32e3-4145-8565-b65f6cc87b44",
     "showTitle": false,
     "title": ""
    }
   },
   "outputs": [],
   "source": [
    "# Identificamos el target del data original\n",
    "target_ml = datos_df['Fuel Consumption Rate']\n",
    "\n",
    "#Agregamos la target a nuestro datos escalados previamente\n",
    "df_escalado['Fuel Consumption Rate'] = target_ml"
   ]
  },
  {
   "cell_type": "code",
   "execution_count": 0,
   "metadata": {
    "application/vnd.databricks.v1+cell": {
     "cellMetadata": {
      "byteLimit": 2048000,
      "rowLimit": 10000
     },
     "inputWidgets": {},
     "nuid": "a8ee1a24-2ed3-45d1-8976-d8a36482bb58",
     "showTitle": false,
     "title": ""
    }
   },
   "outputs": [],
   "source": [
    "df_escalado.head()"
   ]
  },
  {
   "cell_type": "markdown",
   "metadata": {
    "application/vnd.databricks.v1+cell": {
     "cellMetadata": {},
     "inputWidgets": {},
     "nuid": "0ff0b162-80f4-48d4-9c3b-71b6e26e6e32",
     "showTitle": false,
     "title": ""
    }
   },
   "source": [
    "### Pasar los datos de serie temporal univariada o multivariada como un conjunto de datos de aprendizaje supervisado"
   ]
  },
  {
   "cell_type": "markdown",
   "metadata": {
    "application/vnd.databricks.v1+cell": {
     "cellMetadata": {},
     "inputWidgets": {},
     "nuid": "1b90a32d-5dee-46d9-b903-80997277fc54",
     "showTitle": false,
     "title": ""
    }
   },
   "source": [
    "#### OPCION 1: Usando una funcion de restraso(lags) y adelantos(pasos al futuro)"
   ]
  },
  {
   "cell_type": "code",
   "execution_count": 0,
   "metadata": {
    "application/vnd.databricks.v1+cell": {
     "cellMetadata": {
      "byteLimit": 2048000,
      "rowLimit": 10000
     },
     "inputWidgets": {},
     "nuid": "57364d9f-b550-4bc2-850a-8a8299c7aeb4",
     "showTitle": false,
     "title": ""
    }
   },
   "outputs": [],
   "source": [
    "# Función de Python llamada series_to_supervised() que toma una serie temporal univariada o multivariada y la encuadra como un #conjunto de datos de aprendizaje supervisado.\n",
    "import pandas as pd\n",
    " \n",
    "def series_to_supervised(data, n_in=1, n_out=1, dropnan=True):\n",
    "    \"\"\"\n",
    "    Frame a time series as a supervised learning dataset.\n",
    "    Arguments:\n",
    "    data: Secuencia de observaciones como una lista o matriz NumPy 2D.\n",
    "    n_in : número de observaciones de retraso como entrada ( X ). Los valores pueden estar entre [1..len(data)] Opcional. El valor predeterminado es 1.\n",
    "    n_out : Número de observaciones como salida ( y ). Los valores pueden estar entre [0..len(data)-1]. Opcional. El valor predeterminado es 1.\n",
    "    dropnan : valor booleano para eliminar o no filas con valores NaN. Opcional. El valor predeterminado es Verdadero.\n",
    "\n",
    "    Returns:\n",
    "    Pandas DataFrame of series framed for supervised learning.\n",
    "    \"\"\"\n",
    "    n_vars = 1 if type(data) is list else data.shape[1]\n",
    "    df = pd.DataFrame(data)\n",
    "    cols, names = list(), list()\n",
    "    # input sequence (t-n, ... t-1)\n",
    "    for i in range(n_in, 0, -1):\n",
    "        cols.append(df.shift(i))    # Aplicas los pasos hacia atras \n",
    "        names += [('var%d(t-%d)' % (j+1, i)) for j in range(n_vars)]\n",
    "    # forecast sequence (t, t+1, ... t+n)\n",
    "    for i in range(0, n_out):\n",
    "        cols.append(df.shift(-i))   # Aplicas los pasos hacia adelante\n",
    "        if i == 0:\n",
    "            names += [('var%d(t)' % (j+1)) for j in range(n_vars)]\n",
    "        else:\n",
    "            names += [('var%d(t+%d)' % (j+1, i)) for j in range(n_vars)]\n",
    "    # put it all together\n",
    "    agg = pd.concat(cols, axis=1)\n",
    "    agg.columns = names\n",
    "    # drop rows with NaN values\n",
    "    if dropnan:\n",
    "        agg.dropna(inplace=True)    #Eliminamos las filas Nulas de nuestro df generado(Porque no sirven en la serie temporal)\n",
    "    return agg"
   ]
  },
  {
   "cell_type": "code",
   "execution_count": 0,
   "metadata": {
    "application/vnd.databricks.v1+cell": {
     "cellMetadata": {
      "byteLimit": 2048000,
      "rowLimit": 10000
     },
     "inputWidgets": {},
     "nuid": "a5fb8205-ed6a-4719-9aac-ca512a1a6ceb",
     "showTitle": false,
     "title": ""
    }
   },
   "outputs": [],
   "source": [
    "# Crear los datasets de entrenamiento, prueba y validación y verificar sus tamaños\n",
    "numero_pasos_atras = 0  # Hiperparámetro\n",
    "numero_pasos_futuro = 2   # Modelo uni-step igual a 1 paso,   MUltivariado seria mayor a 1 paso al futuro\n",
    "\n",
    "# tr_s = series_to_supervised(tr.values, numero_pasos_atras , numero_pasos_futuro)\n",
    "# vl_s = series_to_supervised(vl.values, numero_pasos_atras, numero_pasos_futuro)\n",
    "# ts_s = series_to_supervised(ts.values, numero_pasos_atras, numero_pasos_futuro)\n",
    "\n",
    "datos_df_s = series_to_supervised(df_escalado.values, numero_pasos_atras, numero_pasos_futuro)\n",
    "\n",
    "# Asignar nombres originales a las columnas\n",
    "original_columns = df_escalado.columns\n",
    "\n",
    "new_columns = []\n",
    "for i in range(numero_pasos_atras, 0, -1):\n",
    "    new_columns += [f'{col}(t-{i})' for col in original_columns]\n",
    "for i in range(0, numero_pasos_futuro):\n",
    "    if i == 0:\n",
    "        new_columns += [f'{col}(t)' for col in original_columns]\n",
    "    else:\n",
    "        new_columns += [f'{col}(t+{i})' for col in original_columns]\n",
    "\n",
    "datos_df_s.columns = new_columns\n",
    "datos_df_s.head()"
   ]
  },
  {
   "cell_type": "code",
   "execution_count": 0,
   "metadata": {
    "application/vnd.databricks.v1+cell": {
     "cellMetadata": {
      "byteLimit": 2048000,
      "rowLimit": 10000
     },
     "inputWidgets": {},
     "nuid": "08b14f81-945d-4fcb-8149-336d07026e69",
     "showTitle": false,
     "title": ""
    }
   },
   "outputs": [],
   "source": [
    "datos_df_s_filter=datos_df_s[['Engine Coolant Temperature(t)','Left Exhaust Temperature(t)','Fuel Consumption Rate(t+1)']]\n",
    "datos_df_s_filter.head()"
   ]
  },
  {
   "cell_type": "code",
   "execution_count": 0,
   "metadata": {
    "application/vnd.databricks.v1+cell": {
     "cellMetadata": {
      "byteLimit": 2048000,
      "rowLimit": 10000
     },
     "inputWidgets": {},
     "nuid": "3fdc949b-dee6-4da0-9f72-f8bc38f2085e",
     "showTitle": false,
     "title": ""
    }
   },
   "outputs": [],
   "source": [
    "df_escalado.head()"
   ]
  },
  {
   "cell_type": "markdown",
   "metadata": {
    "application/vnd.databricks.v1+cell": {
     "cellMetadata": {},
     "inputWidgets": {},
     "nuid": "60b5406a-996c-4317-9c11-ca8e84a77b6b",
     "showTitle": false,
     "title": ""
    }
   },
   "source": [
    "### OPCION 2: Utilizar una funcion solo para retroceso(lags)"
   ]
  },
  {
   "cell_type": "markdown",
   "metadata": {
    "application/vnd.databricks.v1+cell": {
     "cellMetadata": {},
     "inputWidgets": {},
     "nuid": "dc25755d-3316-4822-8ab4-c07625b52a7d",
     "showTitle": false,
     "title": ""
    }
   },
   "source": [
    "### Algoritmo XGB Time Series"
   ]
  },
  {
   "cell_type": "code",
   "execution_count": 0,
   "metadata": {
    "application/vnd.databricks.v1+cell": {
     "cellMetadata": {
      "byteLimit": 2048000,
      "rowLimit": 10000
     },
     "inputWidgets": {},
     "nuid": "b6a9e331-21c0-4030-a3f3-877d340da220",
     "showTitle": false,
     "title": ""
    }
   },
   "outputs": [],
   "source": [
    "import xgboost as xgb\n",
    "from sklearn.metrics import mean_squared_error, accuracy_score\n",
    "from sklearn.model_selection import train_test_split\n",
    "import pandas as pd\n",
    "import numpy as np\n",
    "\n",
    "import matplotlib.pyplot as plt\n",
    "import seaborn as sns"
   ]
  },
  {
   "cell_type": "code",
   "execution_count": 0,
   "metadata": {
    "application/vnd.databricks.v1+cell": {
     "cellMetadata": {
      "byteLimit": 2048000,
      "rowLimit": 10000
     },
     "inputWidgets": {},
     "nuid": "0ebfea28-9174-4199-9fef-523b7d81978b",
     "showTitle": false,
     "title": ""
    }
   },
   "outputs": [],
   "source": [
    "FEATURES = datos_df_s_filter.columns.drop('Fuel Consumption Rate(t+1)')\n",
    "\n",
    "x = datos_df_s_filter[FEATURES]\n",
    "y = datos_df_s_filter['Fuel Consumption Rate(t+1)']"
   ]
  },
  {
   "cell_type": "code",
   "execution_count": 0,
   "metadata": {
    "application/vnd.databricks.v1+cell": {
     "cellMetadata": {
      "byteLimit": 2048000,
      "rowLimit": 10000
     },
     "inputWidgets": {},
     "nuid": "0ba02ca8-ffd7-4d17-b3ed-9270d64a75d5",
     "showTitle": false,
     "title": ""
    }
   },
   "outputs": [],
   "source": [
    "x.head()"
   ]
  },
  {
   "cell_type": "code",
   "execution_count": 0,
   "metadata": {
    "application/vnd.databricks.v1+cell": {
     "cellMetadata": {
      "byteLimit": 2048000,
      "rowLimit": 10000
     },
     "inputWidgets": {},
     "nuid": "895e0907-9257-48a4-87ab-beb47ed5edf3",
     "showTitle": false,
     "title": ""
    }
   },
   "outputs": [],
   "source": [
    "# Dividir los datos en conjunto de entrenamiento y conjunto de prueba\n",
    "X_train, X_test, y_train, y_test = train_test_split(x, y, test_size=0.2, shuffle=False, random_state=1)\n",
    "#shuffle=False, los datos no se mezclarán y se dividirán #secuencialmente según el orden(ideal para time series)\n",
    "\n",
    "# Generamos los datasets de train y test\n",
    "train  = pd.concat([X_train,y_train], axis=1)\n",
    "test  = pd.concat([X_test,y_test], axis=1)"
   ]
  },
  {
   "cell_type": "code",
   "execution_count": 0,
   "metadata": {
    "application/vnd.databricks.v1+cell": {
     "cellMetadata": {
      "byteLimit": 2048000,
      "rowLimit": 10000
     },
     "inputWidgets": {},
     "nuid": "15f4ec68-bff2-4ac0-b8a3-5686f47e9ed6",
     "showTitle": false,
     "title": ""
    }
   },
   "outputs": [],
   "source": [
    "xgb_model = xgb.XGBRegressor(n_estimators=200,max_depth=10,objective='reg:squarederror',reg_alpha=0.1) #reg_alpha>>regulazrizacion Lasso educir la complejidad del modelo y evitar #el sobreajuste\n",
    "#eval_set>>monitorear el rendimiento del modelo en los datos de evaluación durante el #entrenamiento\n",
    "#objective=>>reg:squarederror>>regresión\n",
    "\n",
    "xgb_model.fit(X_train,y_train,eval_set=[(X_train,y_train), (X_test,y_test)],eval_metric=['rmse'],\n",
    "              early_stopping_rounds=50,verbose=True)\n",
    "#verbose=True >> Mostrar en pantalla las iteraciones\n",
    "#'auc'>>AUC es una métrica que evalúa la capacidad del modelo para distinguir entre clases positivas y negativas\n",
    "# 'error'>> cuanto se equivoca el modelo en predecir (100-error)\n",
    "# logloss>>un logloss más bajo indica un mejor rendimiento del modelo."
   ]
  },
  {
   "cell_type": "markdown",
   "metadata": {
    "application/vnd.databricks.v1+cell": {
     "cellMetadata": {},
     "inputWidgets": {},
     "nuid": "d3ba57f5-32fc-489f-8135-0c5a27896198",
     "showTitle": false,
     "title": ""
    }
   },
   "source": [
    "Feature Importance"
   ]
  },
  {
   "cell_type": "code",
   "execution_count": 0,
   "metadata": {
    "application/vnd.databricks.v1+cell": {
     "cellMetadata": {
      "byteLimit": 2048000,
      "rowLimit": 10000
     },
     "inputWidgets": {},
     "nuid": "c734b6ba-042d-4df7-9fb4-81686c7d568f",
     "showTitle": false,
     "title": ""
    }
   },
   "outputs": [],
   "source": [
    "f1 = pd.DataFrame(data=xgb_model.feature_importances_,index=xgb_model.feature_names_in_,columns=['importantes/variables'])\n",
    "\n",
    "f1.sort_values('importantes/variables').plot(kind='barh',title='Variables')\n",
    "plt.show()"
   ]
  },
  {
   "cell_type": "code",
   "execution_count": 0,
   "metadata": {
    "application/vnd.databricks.v1+cell": {
     "cellMetadata": {
      "byteLimit": 2048000,
      "rowLimit": 10000
     },
     "inputWidgets": {},
     "nuid": "a23292d3-1a77-4900-a105-e51ff6ad5710",
     "showTitle": false,
     "title": ""
    }
   },
   "outputs": [],
   "source": [
    "y_pred"
   ]
  },
  {
   "cell_type": "code",
   "execution_count": 0,
   "metadata": {
    "application/vnd.databricks.v1+cell": {
     "cellMetadata": {
      "byteLimit": 2048000,
      "rowLimit": 10000
     },
     "inputWidgets": {},
     "nuid": "b865b68d-220a-45e3-80b1-474a12d845fe",
     "showTitle": false,
     "title": ""
    }
   },
   "outputs": [],
   "source": [
    "y_test"
   ]
  },
  {
   "cell_type": "code",
   "execution_count": 0,
   "metadata": {
    "application/vnd.databricks.v1+cell": {
     "cellMetadata": {
      "byteLimit": 2048000,
      "rowLimit": 10000
     },
     "inputWidgets": {},
     "nuid": "93515102-3b99-4e00-b9e2-4365fa08d064",
     "showTitle": false,
     "title": ""
    }
   },
   "outputs": [],
   "source": [
    "import matplotlib.pyplot as plt\n",
    "\n",
    "# Paso 1: Obtener las predicciones para el conjunto de prueba (X_test)\n",
    "y_pred = xgb_model.predict(X_test)\n",
    "\n",
    "# Paso 2: Crear el gráfico\n",
    "plt.figure(figsize=(10, 6))\n",
    "\n",
    "# Gráfico de la serie temporal original (valores reales)\n",
    "plt.plot(y_test, label='Valores reales', color='blue')\n",
    "\n",
    "# Gráfico de la serie temporal predicha por el modelo\n",
    "plt.plot(y_pred, label='Valores predichos', color='red')\n",
    "\n",
    "# Añadir etiquetas y título\n",
    "plt.title('Serie Temporal: Valores Reales vs Predichos')\n",
    "plt.xlabel('Índice de Tiempo')\n",
    "plt.ylabel('Consumo de Combustible')  # Cambia según el nombre de tu variable objetivo\n",
    "\n",
    "# Mostrar la leyenda\n",
    "plt.legend()\n",
    "\n",
    "# Mostrar el gráfico\n",
    "plt.show()"
   ]
  },
  {
   "cell_type": "code",
   "execution_count": 0,
   "metadata": {
    "application/vnd.databricks.v1+cell": {
     "cellMetadata": {
      "byteLimit": 2048000,
      "rowLimit": 10000
     },
     "inputWidgets": {},
     "nuid": "862cedbc-c016-49a4-bd59-cd37f31ce65c",
     "showTitle": false,
     "title": ""
    }
   },
   "outputs": [],
   "source": [
    "import matplotlib.pyplot as plt\n",
    "\n",
    "# Paso 1: Obtener las predicciones para el conjunto de prueba (X_test)\n",
    "y_pred = xgb_model.predict(X_test)\n",
    "\n",
    "# Asegúrate de que y_pred tenga el mismo índice que y_test\n",
    "y_pred_series = pd.Series(y_pred, index=y_test.index)\n",
    "\n",
    "# Paso 2: Crear el gráfico con el índice de tiempo\n",
    "plt.figure(figsize=(10, 6))\n",
    "\n",
    "# Gráfico de la serie temporal original (valores reales)\n",
    "plt.plot(y_test.index, y_test, label='Valores reales', color='blue')\n",
    "\n",
    "# Gráfico de la serie temporal predicha por el modelo\n",
    "plt.plot(y_pred_series.index, y_pred_series, label='Valores predichos', color='red')\n",
    "\n",
    "# Añadir etiquetas y título\n",
    "plt.title('Serie Temporal: Valores Reales vs Predichos')\n",
    "plt.xlabel('Fecha')  # O lo que sea que represente tu índice temporal\n",
    "plt.ylabel('Consumo Combustible (Galones)')  # Cambia según tu variable objetivo\n",
    "\n",
    "# Mostrar la leyenda\n",
    "plt.legend()\n",
    "\n",
    "# Mostrar el gráfico\n",
    "plt.show()"
   ]
  },
  {
   "cell_type": "code",
   "execution_count": 0,
   "metadata": {
    "application/vnd.databricks.v1+cell": {
     "cellMetadata": {
      "byteLimit": 2048000,
      "rowLimit": 10000
     },
     "inputWidgets": {},
     "nuid": "cc4d2e4e-6b5f-4dbc-9cec-497f02e7a8c9",
     "showTitle": false,
     "title": ""
    }
   },
   "outputs": [],
   "source": [
    "import plotly.graph_objects as go\n",
    "\n",
    "# Obtener las predicciones para el conjunto de prueba (X_test)\n",
    "y_pred = xgb_model.predict(X_test)\n",
    "\n",
    "# Crear una serie de pandas para las predicciones con el mismo índice que y_test\n",
    "y_pred_series = pd.Series(y_pred, index=y_test.index)\n",
    "\n",
    "# Crear el gráfico con Plotly\n",
    "fig = go.Figure()\n",
    "\n",
    "# Añadir la serie de valores reales\n",
    "fig.add_trace(go.Scatter(x=y_test.index, y=y_test, mode='lines', name='Valores Reales', line=dict(color='blue')))\n",
    "\n",
    "# Añadir la serie de valores predichos\n",
    "fig.add_trace(go.Scatter(x=y_pred_series.index, y=y_pred_series, mode='lines', name='Valores Predichos', line=dict(color='red')))\n",
    "\n",
    "# Personalizar el gráfico\n",
    "fig.update_layout(\n",
    "    title='Serie Temporal: Valores Reales vs Predichos',\n",
    "    xaxis_title='Fecha',\n",
    "    yaxis_title='Consumo Combustible (Galones)',\n",
    "    hovermode='x unified'\n",
    ")\n",
    "\n",
    "# Mostrar el gráfico\n",
    "fig.show()"
   ]
  },
  {
   "cell_type": "code",
   "execution_count": 0,
   "metadata": {
    "application/vnd.databricks.v1+cell": {
     "cellMetadata": {
      "byteLimit": 2048000,
      "rowLimit": 10000
     },
     "inputWidgets": {},
     "nuid": "11669647-f928-466a-a112-5941d95feb1c",
     "showTitle": false,
     "title": ""
    }
   },
   "outputs": [],
   "source": [
    "# from kafka import KafkaConsumer\n",
    "# from kafka import KafkaProducer\n",
    "# from langchain.document_loaders import WebBaseLoader"
   ]
  }
 ],
 "metadata": {
  "application/vnd.databricks.v1+notebook": {
   "dashboards": [],
   "environmentMetadata": null,
   "language": "python",
   "notebookMetadata": {
    "pythonIndentUnit": 4
   },
   "notebookName": "4.desarrollo_modelo",
   "widgets": {}
  },
  "kernelspec": {
   "display_name": "Python 3 (ipykernel)",
   "language": "python",
   "name": "python3"
  },
  "language_info": {
   "codemirror_mode": {
    "name": "ipython",
    "version": 3
   },
   "file_extension": ".py",
   "mimetype": "text/x-python",
   "name": "python",
   "nbconvert_exporter": "python",
   "pygments_lexer": "ipython3",
   "version": "3.11.10"
  }
 },
 "nbformat": 4,
 "nbformat_minor": 0
}
