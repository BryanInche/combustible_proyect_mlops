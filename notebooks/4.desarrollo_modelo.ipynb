{
 "cells": [
  {
   "cell_type": "markdown",
   "metadata": {
    "application/vnd.databricks.v1+cell": {
     "cellMetadata": {},
     "inputWidgets": {},
     "nuid": "da825a09-2d74-4ec8-a85b-d19bb3e18ee3",
     "showTitle": false,
     "title": ""
    }
   },
   "source": [
    "## 1. Extraccion de Datos"
   ]
  },
  {
   "cell_type": "markdown",
   "metadata": {
    "application/vnd.databricks.v1+cell": {
     "cellMetadata": {},
     "inputWidgets": {},
     "nuid": "9f4fc628-79f2-4f74-9840-3f8d6e05ef18",
     "showTitle": false,
     "title": ""
    }
   },
   "source": [
    "### 1.1 Obtencion de datos Proprocesados"
   ]
  },
  {
   "cell_type": "code",
   "execution_count": 0,
   "metadata": {
    "application/vnd.databricks.v1+cell": {
     "cellMetadata": {},
     "inputWidgets": {},
     "nuid": "9dc7a238-a7d2-4590-9a7a-6bfd11b84616",
     "showTitle": false,
     "title": ""
    }
   },
   "outputs": [],
   "source": [
    "import pandas as pd\n",
    "from io import BytesIO\n",
    "from minio import Minio\n",
    "import urllib3\n",
    "# Establecer el número máximo de columnas a mostrar\n",
    "pd.set_option('display.max_columns', None)\n",
    "pd.set_option('display.max_rows', None)\n",
    "# Conectar al servidor de MinIO\n",
    "client = Minio(\n",
    "    #\"minio.minio-user.svc.cluster.local:80\",  # Dirección del servidor MinIO\n",
    "    \"192.168.25.223\",  # Dirección del servidor MinIO\n",
    "    access_key=\"c9iXL6uoEu8r35odfMLV\",         # Clave de acceso\n",
    "    secret_key=\"r3Wx21EmA41gB3mH65mvBVG9sH3lIMPwSmD0WMtI\",  # Clave secreta\n",
    "    secure=False,  # Cambia a True si usas HTTPS\n",
    "    http_client=urllib3.PoolManager(cert_reqs='CERT_NONE')  # Ignora la verificación del certificado\n",
    ")\n",
    "\n",
    "# Nombre del bucket y del archivo\n",
    "bucket_name = 'hudbayprocessed'\n",
    "object_name = 'proyectocombustible_processed/table_delta_28.parquet'  # Nombre del archivo Parquet que quieres leer\n",
    "\n",
    "# Obtener el archivo Parquet del bucket\n",
    "response = client.get_object(bucket_name, object_name)\n",
    "data = response.read()\n",
    "\n",
    "# Convertir los datos leídos en un DataFrame de Pandas\n",
    "parquet_buffer = BytesIO(data)\n",
    "datos = pd.read_parquet(parquet_buffer)\n",
    "\n",
    "# Mostrar el DataFrame\n",
    "datos.head()"
   ]
  },
  {
   "cell_type": "code",
   "execution_count": 0,
   "metadata": {
    "application/vnd.databricks.v1+cell": {
     "cellMetadata": {
      "byteLimit": 2048000,
      "rowLimit": 10000
     },
     "inputWidgets": {},
     "nuid": "0f4c2c88-1634-4845-a384-bf3d761b7693",
     "showTitle": false,
     "title": ""
    }
   },
   "outputs": [],
   "source": [
    "import pyarrow.parquet as pq\n",
    "\n",
    "ruta_carpeta_parquet = \"/dbfs/mnt/datalakemlopsd4m/processed/proyectocombustible_processed/hudbay/table_delta_28.parquet\"\n",
    "tabla = pq.read_table(ruta_carpeta_parquet)\n",
    "\n",
    "# Convertir a DataFrame de pandas y mostrar las primeras filas\n",
    "datos = tabla.to_pandas()\n",
    "datos.head(1)"
   ]
  },
  {
   "cell_type": "markdown",
   "metadata": {
    "application/vnd.databricks.v1+cell": {
     "cellMetadata": {},
     "inputWidgets": {},
     "nuid": "cbc59437-2abd-4ff2-a686-e35a565ece5f",
     "showTitle": false,
     "title": ""
    }
   },
   "source": [
    "### 1.2 Revision de los datos Extraidos"
   ]
  },
  {
   "cell_type": "code",
   "execution_count": 0,
   "metadata": {
    "application/vnd.databricks.v1+cell": {
     "cellMetadata": {
      "byteLimit": 2048000,
      "rowLimit": 10000
     },
     "inputWidgets": {},
     "nuid": "9b1105db-22a1-4ebd-8347-88e0390811b9",
     "showTitle": false,
     "title": ""
    }
   },
   "outputs": [],
   "source": [
    "datos.shape"
   ]
  },
  {
   "cell_type": "markdown",
   "metadata": {
    "application/vnd.databricks.v1+cell": {
     "cellMetadata": {},
     "inputWidgets": {},
     "nuid": "420d5974-6139-4096-b607-f5409a0a749b",
     "showTitle": false,
     "title": ""
    }
   },
   "source": [
    "Verificar si hay valores Nulos"
   ]
  },
  {
   "cell_type": "code",
   "execution_count": 0,
   "metadata": {
    "application/vnd.databricks.v1+cell": {
     "cellMetadata": {
      "byteLimit": 2048000,
      "rowLimit": 10000
     },
     "inputWidgets": {},
     "nuid": "bd4353b9-2a47-4534-b7a2-f69fec006224",
     "showTitle": false,
     "title": ""
    }
   },
   "outputs": [],
   "source": [
    "datos.isnull().sum()"
   ]
  },
  {
   "cell_type": "code",
   "execution_count": 0,
   "metadata": {
    "application/vnd.databricks.v1+cell": {
     "cellMetadata": {},
     "inputWidgets": {},
     "nuid": "6d936af2-22e8-48e1-8260-7e23a3dabfb6",
     "showTitle": false,
     "title": ""
    }
   },
   "outputs": [],
   "source": [
    "#Ver la fecha minima y maxima\n",
    "datos['instant_date_t'].min(), datos['instant_date_t'].max(),"
   ]
  },
  {
   "cell_type": "code",
   "execution_count": 0,
   "metadata": {
    "application/vnd.databricks.v1+cell": {
     "cellMetadata": {},
     "inputWidgets": {},
     "nuid": "6c7eab7d-1f40-4bd4-90da-c42c7d576142",
     "showTitle": false,
     "title": ""
    }
   },
   "outputs": [],
   "source": [
    "#ve los nombres de las columnas\n",
    "datos.columns"
   ]
  },
  {
   "cell_type": "code",
   "execution_count": 0,
   "metadata": {
    "application/vnd.databricks.v1+cell": {
     "cellMetadata": {},
     "inputWidgets": {},
     "nuid": "a5a35733-6495-403c-8577-9c34e07dfb7b",
     "showTitle": false,
     "title": ""
    }
   },
   "outputs": [],
   "source": [
    "# #2. Ajuste de los datos a Series Temporales\n",
    "# #2.1 Se establece la columna 'Time' como el índice del DataFrame \"datos\"\n",
    "datos = datos.set_index('instant_date_t')\n",
    "\n",
    "# #2.3 Ordenamos el dataset de forma ascendente segun el datetime\n",
    "datos.sort_index(inplace=True)\n",
    "\n",
    "#2.4 Identificamos la periocidad de la serie temporal\n",
    "df_time_diffs = datos.index.to_series().diff().dt.total_seconds()\n",
    "df_time_diffs.value_counts()"
   ]
  },
  {
   "cell_type": "markdown",
   "metadata": {
    "application/vnd.databricks.v1+cell": {
     "cellMetadata": {},
     "inputWidgets": {},
     "nuid": "c07872b1-9e5c-4d48-881e-7b78aa611244",
     "showTitle": false,
     "title": ""
    }
   },
   "source": [
    "## 2.  Preparacion de datos para Analitica Predictiva"
   ]
  },
  {
   "cell_type": "markdown",
   "metadata": {
    "application/vnd.databricks.v1+cell": {
     "cellMetadata": {},
     "inputWidgets": {},
     "nuid": "f1733534-52d5-4ecc-a221-93da3821dffb",
     "showTitle": false,
     "title": ""
    }
   },
   "source": [
    "### 2. Limpieza de valores Nulos"
   ]
  },
  {
   "cell_type": "code",
   "execution_count": 0,
   "metadata": {
    "application/vnd.databricks.v1+cell": {
     "cellMetadata": {},
     "inputWidgets": {},
     "nuid": "23936359-e67a-411d-afdf-75f1bb7820a7",
     "showTitle": false,
     "title": ""
    }
   },
   "outputs": [],
   "source": [
    "# 3.1 Supongamos que tienes un DataFrame llamado datos\n",
    "valores_nulos = datos.isnull().sum()\n",
    "valores_nulos_ordenados = valores_nulos.sort_values(ascending=False)\n",
    "porcentaje_nulos = (valores_nulos_ordenados / len(datos)) * 100\n",
    "columnas_a_eliminar = porcentaje_nulos[porcentaje_nulos > 40].index\n",
    "datos = datos.drop(columnas_a_eliminar, axis=1)"
   ]
  },
  {
   "cell_type": "code",
   "execution_count": 0,
   "metadata": {
    "application/vnd.databricks.v1+cell": {
     "cellMetadata": {},
     "inputWidgets": {},
     "nuid": "5dbb530c-8c6f-4152-bfbf-d8b54914a624",
     "showTitle": false,
     "title": ""
    }
   },
   "outputs": [],
   "source": [
    "porcentaje_nulos"
   ]
  },
  {
   "cell_type": "code",
   "execution_count": 0,
   "metadata": {
    "application/vnd.databricks.v1+cell": {
     "cellMetadata": {},
     "inputWidgets": {},
     "nuid": "381aa230-b050-4902-a5a8-5262dac843c5",
     "showTitle": false,
     "title": ""
    }
   },
   "outputs": [],
   "source": [
    "columnas_a_eliminar"
   ]
  },
  {
   "cell_type": "code",
   "execution_count": 0,
   "metadata": {
    "application/vnd.databricks.v1+cell": {
     "cellMetadata": {},
     "inputWidgets": {},
     "nuid": "1a8db7fd-e462-4fec-b90b-f154f4fbc76d",
     "showTitle": false,
     "title": ""
    }
   },
   "outputs": [],
   "source": [
    "datos.shape"
   ]
  },
  {
   "cell_type": "code",
   "execution_count": 0,
   "metadata": {
    "application/vnd.databricks.v1+cell": {
     "cellMetadata": {},
     "inputWidgets": {},
     "nuid": "1ec0994c-5fc4-4c1b-bfb3-13afa5a8637b",
     "showTitle": false,
     "title": ""
    }
   },
   "outputs": [],
   "source": [
    "datos['nombre'].head()"
   ]
  },
  {
   "cell_type": "code",
   "execution_count": 0,
   "metadata": {
    "application/vnd.databricks.v1+cell": {
     "cellMetadata": {},
     "inputWidgets": {},
     "nuid": "0b46e6d3-8528-4f93-a80b-d7c310c1ec68",
     "showTitle": false,
     "title": ""
    }
   },
   "outputs": [],
   "source": [
    "datos.dtypes"
   ]
  },
  {
   "cell_type": "code",
   "execution_count": 0,
   "metadata": {
    "application/vnd.databricks.v1+cell": {
     "cellMetadata": {},
     "inputWidgets": {},
     "nuid": "8ff25f41-7916-426b-829e-c966d10e0027",
     "showTitle": false,
     "title": ""
    }
   },
   "outputs": [],
   "source": [
    "#4.1 Eliminando columnas especificas que no aportan informacion ( # errors='ignore':ignore cualquier error si alguna de las columnas especificadas no se encuentra en el DataFrame.)\n",
    "datos = datos.drop(['equipment','nombre'], axis=1, errors='ignore') "
   ]
  },
  {
   "cell_type": "code",
   "execution_count": 0,
   "metadata": {
    "application/vnd.databricks.v1+cell": {
     "cellMetadata": {},
     "inputWidgets": {},
     "nuid": "9b83024a-4bb0-4493-928b-c63aee1f74f1",
     "showTitle": false,
     "title": ""
    }
   },
   "outputs": [],
   "source": [
    "datos.shape"
   ]
  },
  {
   "cell_type": "code",
   "execution_count": 0,
   "metadata": {
    "application/vnd.databricks.v1+cell": {
     "cellMetadata": {},
     "inputWidgets": {},
     "nuid": "91daa7c6-1fd3-4d4a-bc5e-9545c8699308",
     "showTitle": false,
     "title": ""
    }
   },
   "outputs": [],
   "source": [
    "datos.isnull().sum()"
   ]
  },
  {
   "cell_type": "code",
   "execution_count": 0,
   "metadata": {
    "application/vnd.databricks.v1+cell": {
     "cellMetadata": {},
     "inputWidgets": {},
     "nuid": "37fad6d2-82b1-4bc2-a847-c22366121817",
     "showTitle": false,
     "title": ""
    }
   },
   "outputs": [],
   "source": [
    "# 3.4 Rellenar los valores nulos con ceros en todo el DataFrame\n",
    "datos = datos.fillna(0)"
   ]
  },
  {
   "cell_type": "code",
   "execution_count": 0,
   "metadata": {
    "application/vnd.databricks.v1+cell": {
     "cellMetadata": {},
     "inputWidgets": {},
     "nuid": "cf0d3174-3c59-4e4a-a39b-73d2646bad49",
     "showTitle": false,
     "title": ""
    }
   },
   "outputs": [],
   "source": [
    "datos.isnull().sum()"
   ]
  },
  {
   "cell_type": "markdown",
   "metadata": {
    "application/vnd.databricks.v1+cell": {
     "cellMetadata": {},
     "inputWidgets": {},
     "nuid": "cac3a491-e68c-420d-9239-2d6d45abb32a",
     "showTitle": false,
     "title": ""
    }
   },
   "source": [
    "## 2.1 Tratamiento de Variables Categoricas"
   ]
  },
  {
   "cell_type": "markdown",
   "metadata": {
    "application/vnd.databricks.v1+cell": {
     "cellMetadata": {},
     "inputWidgets": {},
     "nuid": "d4113c02-320a-46ce-a0c0-d34b6083d840",
     "showTitle": false,
     "title": ""
    }
   },
   "source": [
    "### 2.1.1 Metodo 1 - Usar un bucle para realizar el codigo de One Hot Encoding"
   ]
  },
  {
   "cell_type": "markdown",
   "metadata": {
    "application/vnd.databricks.v1+cell": {
     "cellMetadata": {},
     "inputWidgets": {},
     "nuid": "d4927e54-89a6-4c5f-9230-4a1beda51f1e",
     "showTitle": false,
     "title": ""
    }
   },
   "source": [
    "2.1.1.1 VARIABLE Status Truck"
   ]
  },
  {
   "cell_type": "code",
   "execution_count": 0,
   "metadata": {
    "application/vnd.databricks.v1+cell": {
     "cellMetadata": {},
     "inputWidgets": {},
     "nuid": "8bc7f80a-9572-4733-b46c-3c18aaf10519",
     "showTitle": false,
     "title": ""
    }
   },
   "outputs": [],
   "source": [
    "import pandas as pd\n",
    "# Obtener las categorías únicas\n",
    "categorias = datos['Status Truck'].unique()\n",
    "\n",
    "# Crear un DataFrame vacío con columnas para cada categoría, Diccionario one_hot_dict : categoria: clave es una categoría única de #nombre_equipo_carguio, y el [0]*len(datos) : valor asociado a cada clave es una lista de ceros de la misma longitud que el DataFrame \n",
    "one_hot_dict = {categoria: [0]*len(datos) for categoria in categorias}\n",
    "\n",
    "# Llenar el diccionario con 1s en las posiciones correspondientes\n",
    "# idx es el índice de la fila, val es el valor de nombre_equipo_carguio en esa fila\n",
    "# Si idx=0 y val='CF02', entonces one_hot_dict['CF02'][0] = 1\n",
    "for idx, val in datos['Status Truck'].items():\n",
    "    one_hot_dict[val][idx] = 1\n",
    "\n",
    "# Convertir el diccionario a un DataFrame\n",
    "one_hot_df = pd.DataFrame(one_hot_dict)\n",
    "\n",
    "#Unir el DataFrame original con el codificado\n",
    "datos = pd.concat([datos, one_hot_df], axis=1)\n",
    "\n",
    "# # Mostrar el resultado\n",
    "datos[['Status Truck','Cargando', 'Viaje Descargado', 'Viaje Cargado', 'Descarga']].head()"
   ]
  },
  {
   "cell_type": "markdown",
   "metadata": {
    "application/vnd.databricks.v1+cell": {
     "cellMetadata": {},
     "inputWidgets": {},
     "nuid": "925f31f4-2c7d-4b50-b8bb-8108cc3c27d8",
     "showTitle": false,
     "title": ""
    }
   },
   "source": [
    "### 2.2 Convertir la columna de tiempo a índice temporal si aún no lo es y Definimos Year, Month, week apartir de la fecha"
   ]
  },
  {
   "cell_type": "code",
   "execution_count": 0,
   "metadata": {
    "application/vnd.databricks.v1+cell": {
     "cellMetadata": {},
     "inputWidgets": {},
     "nuid": "520ce0a6-baf2-48f0-b048-9821bf40ab90",
     "showTitle": false,
     "title": ""
    }
   },
   "outputs": [],
   "source": [
    "import pandas as pd\n",
    "\n",
    "# Convertir la columna de tiempo a índice temporal si aún no lo es\n",
    "datos.set_index('instant_date_t', inplace=True)\n",
    "\n",
    "# Crear nuevas columnas basadas en el índice temporal\n",
    "datos['year'] = datos.index.year  # year\n",
    "datos['month'] = datos.index.month # mes\n",
    "datos['day'] = datos.index.day  # Día del mes (1 al 31 del mes)\n",
    "datos['hour'] = datos.index.hour  # hora\n",
    "datos['day_week_str'] = datos.index.strftime('%a')  # Día de la semana como string\n",
    "datos['year_month'] = datos.index.strftime('%Y_%m')  # Formato 'Año_Mes'\n",
    "datos.head()\n",
    "# (Opcional) Si quieres devolver 'instant_date_t' como columna\n",
    "#datos = datos.reset_index()"
   ]
  },
  {
   "cell_type": "markdown",
   "metadata": {
    "application/vnd.databricks.v1+cell": {
     "cellMetadata": {},
     "inputWidgets": {},
     "nuid": "812fff7f-bbab-42fb-ab6b-4ad331fb89c9",
     "showTitle": false,
     "title": ""
    }
   },
   "source": [
    "## 3 Filtro de datos a usar: Equipo de Acarreo a Analizar"
   ]
  },
  {
   "cell_type": "code",
   "execution_count": 0,
   "metadata": {
    "application/vnd.databricks.v1+cell": {
     "cellMetadata": {},
     "inputWidgets": {},
     "nuid": "3cd87bff-247f-4a14-b7b6-fe005e2404a7",
     "showTitle": false,
     "title": ""
    }
   },
   "outputs": [],
   "source": [
    "# datos_equipo_28 = datos[datos['eq_id'] == 28]"
   ]
  },
  {
   "cell_type": "code",
   "execution_count": 0,
   "metadata": {
    "application/vnd.databricks.v1+cell": {
     "cellMetadata": {},
     "inputWidgets": {},
     "nuid": "2894988e-3090-42a1-a8c1-05d0493e98a6",
     "showTitle": false,
     "title": ""
    }
   },
   "outputs": [],
   "source": [
    "datos_equipo_28.index.min()"
   ]
  },
  {
   "cell_type": "code",
   "execution_count": 0,
   "metadata": {
    "application/vnd.databricks.v1+cell": {
     "cellMetadata": {},
     "inputWidgets": {},
     "nuid": "b80741f5-9bce-4478-8e58-7df1165f4b8e",
     "showTitle": false,
     "title": ""
    }
   },
   "outputs": [],
   "source": [
    "# Filtrar los datos para el mes de enero de 2024 usando el índice 'instant_date_t'\n",
    "datos_equipo_28_enero = datos_equipo_28[(datos_equipo_28.index >= datos_equipo_28.index.min() ) & (datos_equipo_28.index < '2024-02-01')]\n",
    "\n",
    "# Mostrar los primeros registros filtrados\n",
    "datos_equipo_28_enero.head()"
   ]
  },
  {
   "cell_type": "code",
   "execution_count": 0,
   "metadata": {
    "application/vnd.databricks.v1+cell": {
     "cellMetadata": {},
     "inputWidgets": {},
     "nuid": "92359a16-dab3-46f0-9c14-a0b1b99e958a",
     "showTitle": false,
     "title": ""
    }
   },
   "outputs": [],
   "source": [
    "datos_equipo_28_enero.shape"
   ]
  },
  {
   "cell_type": "markdown",
   "metadata": {
    "application/vnd.databricks.v1+cell": {
     "cellMetadata": {},
     "inputWidgets": {},
     "nuid": "44418260-39c5-4703-994e-e316bf2c03f7",
     "showTitle": false,
     "title": ""
    }
   },
   "source": [
    "## 4. Seleccion de Variables para Modelos de Machine Learning"
   ]
  },
  {
   "cell_type": "markdown",
   "metadata": {
    "application/vnd.databricks.v1+cell": {
     "cellMetadata": {},
     "inputWidgets": {},
     "nuid": "75753cef-627d-46c3-8b3a-25e0f54fff6c",
     "showTitle": false,
     "title": ""
    }
   },
   "source": [
    "### 4.1 Seleccion variables con StatModels, para regresion lineal (variables significativas estadisticamente basado en la Hipotesis Nula)"
   ]
  },
  {
   "cell_type": "code",
   "execution_count": 0,
   "metadata": {
    "application/vnd.databricks.v1+cell": {
     "cellMetadata": {},
     "inputWidgets": {},
     "nuid": "b663ee04-4657-48a4-a9d3-f9a788f48e7a",
     "showTitle": false,
     "title": ""
    }
   },
   "outputs": [],
   "source": [
    "import pandas as pd\n",
    "import statsmodels.api as sm\n",
    "\n",
    "# Supongamos que datos es tu DataFrame y has seleccionado tus características (X) y variable objetivo (y)\n",
    "X = datos_equipo_32[['x', 'y', 'z', \n",
    "        #'eq_id', \n",
    "       'id_trabaj_t',\n",
    "       'tramosidsnew_t', \n",
    "        #'Status Truck', '\n",
    "        'Left Rear Axle Rpm',\n",
    "       'Right Rear Axle Rpm', 'Left Exhaust Temperature',\n",
    "       'Right Exhaust Temperature', 'Left Rear Parking Brake Oil Pressure',\n",
    "       'Right Rear Parking Brake Oil Pressure', 'Parking Brake',\n",
    "       'Brake Pump Pressure', 'Engine Oil Pressure', 'Actual Gear',\n",
    "       'Ground Speed', 'Engine Speed', 'Transmission Input Speed',\n",
    "       'Shift Lever Position', 'Throttle Position',\n",
    "       'Percent Engine Load At Current Engine Speed', 'Truck Payload',\n",
    "       'Transmission Output Speed', 'Transmission Output Speed #1',\n",
    "       'Transmission Output Speed #2', 'Air Filter #1 Restriction ',\n",
    "       'Air Filter #4 Restriction ', 'Air Filter #3 Restriction',\n",
    "       'Air Filter #2 Restriction ', 'Tank Fuel Level',\n",
    "       'Percent Fuel Position', 'Fuel Rail Pressure',\n",
    "       'Cargando', 'Viaje Descargado', 'Viaje Cargado', 'Descarga']]  # Reemplaza 'feature1', 'feature2', 'feature3' con tus nombres de características\n",
    "y = datos_equipo_32['Fuel Consumption Rate'] # Reemplaza 'variable_objetivo' con el nombre de tu variable objetivo\n",
    "\n",
    "# Añadir constante a las características (intercepto)\n",
    "X = sm.add_constant(X)\n",
    "\n",
    "# Crear el modelo de regresión lineal con statsmodels\n",
    "modelo = sm.OLS(y, X).fit()\n",
    "\n",
    "# Imprimir un resumen estadistico del modelo\n",
    "print(modelo.summary())"
   ]
  },
  {
   "cell_type": "markdown",
   "metadata": {
    "application/vnd.databricks.v1+cell": {
     "cellMetadata": {},
     "inputWidgets": {},
     "nuid": "1ebffe01-b206-43fa-9259-23656952326c",
     "showTitle": false,
     "title": ""
    }
   },
   "source": [
    "### 4.2 Ver Correlaciones entre mis variables"
   ]
  },
  {
   "cell_type": "code",
   "execution_count": 0,
   "metadata": {
    "application/vnd.databricks.v1+cell": {
     "cellMetadata": {},
     "inputWidgets": {},
     "nuid": "0748136c-7717-4a70-b350-d21dff5932f2",
     "showTitle": false,
     "title": ""
    }
   },
   "outputs": [],
   "source": [
    "import pandas as pd\n",
    "import seaborn as sns\n",
    "import matplotlib.pyplot as plt\n",
    "\n",
    "# Supongamos que tienes un DataFrame llamado 'datos'\n",
    "\n",
    "# Lista de variables que deseas analizar\n",
    "variables_a_analizar = ['x', 'y', 'z', \n",
    "        #'eq_id', \n",
    "       'id_trabaj_t',\n",
    "       'tramosidsnew_t', \n",
    "        #'Status Truck', '\n",
    "        'Left Rear Axle Rpm',\n",
    "       'Right Rear Axle Rpm', 'Left Exhaust Temperature',\n",
    "       'Right Exhaust Temperature', 'Left Rear Parking Brake Oil Pressure',\n",
    "       'Right Rear Parking Brake Oil Pressure', 'Parking Brake',\n",
    "       'Brake Pump Pressure', 'Engine Oil Pressure', 'Actual Gear',\n",
    "       'Ground Speed', 'Engine Speed', 'Transmission Input Speed',\n",
    "       'Shift Lever Position', 'Throttle Position',\n",
    "       'Percent Engine Load At Current Engine Speed', 'Truck Payload',\n",
    "       'Transmission Output Speed', 'Transmission Output Speed #1',\n",
    "       'Transmission Output Speed #2', 'Air Filter #1 Restriction ',\n",
    "       'Air Filter #4 Restriction ', 'Air Filter #3 Restriction',\n",
    "       'Air Filter #2 Restriction ', 'Tank Fuel Level',\n",
    "       'Percent Fuel Position', 'Fuel Rail Pressure',\n",
    "       'Cargando', 'Viaje Descargado', 'Viaje Cargado', 'Descarga', 'Fuel Consumption Rate']\n",
    "\n",
    "# Filtrar el DataFrame para incluir solo las variables de interés\n",
    "datos_subset = datos_equipo_32[variables_a_analizar]\n",
    "\n",
    "# Crear una matriz de correlación para el subconjunto de variables\n",
    "matriz_correlacion = datos_subset.corr()\n",
    "\n",
    "# Configurar el estilo de Seaborn\n",
    "sns.set(style=\"whitegrid\")\n",
    "\n",
    "# Aumentar el tamaño del gráfico para mostrar más detalles\n",
    "plt.figure(figsize=(25, 8))  #ancho * altura\n",
    "\n",
    "# Crear un mapa de calor (heatmap) de la matriz de correlación con desplazamiento habilitado\n",
    "ax = sns.heatmap(matriz_correlacion, annot=True, fmt=\".2f\", cmap=\"coolwarm\", linewidths=.5)\n",
    "\n",
    "# Agregar etiquetas a los ejes X e Y\n",
    "ax.set_xticklabels(ax.get_xticklabels(), rotation=45, horizontalalignment='right', fontsize=8)\n",
    "ax.set_yticklabels(ax.get_yticklabels(), rotation=0, horizontalalignment='right', fontsize=8)\n",
    "\n",
    "# Ajustar el tamaño de las fuentes de los nombres de las variables (eje x)\n",
    "ax.tick_params(axis='x', labelsize=12)\n",
    "\n",
    "# Ajustar el tamaño de las fuentes de los nombres de las variables (eje y)\n",
    "ax.tick_params(axis='y', labelsize=12)\n",
    "\n",
    "plt.title(\"Matriz de Correlación Variables\")\n",
    "plt.show()"
   ]
  },
  {
   "cell_type": "code",
   "execution_count": 0,
   "metadata": {
    "application/vnd.databricks.v1+cell": {
     "cellMetadata": {},
     "inputWidgets": {},
     "nuid": "ba0fd912-7556-4164-9113-434dac2d18c9",
     "showTitle": false,
     "title": ""
    }
   },
   "outputs": [],
   "source": [
    "import pandas as pd\n",
    "import seaborn as sns\n",
    "import matplotlib.pyplot as plt\n",
    "\n",
    "# Supongamos que tienes un DataFrame llamado 'datos'\n",
    "\n",
    "# Lista de variables que deseas analizar\n",
    "variables_a_analizar = [\n",
    "        'Left Exhaust Temperature',\n",
    "        'Right Exhaust Temperature',  \n",
    "        'Parking Brake',\n",
    "        'Engine Speed', \n",
    "        'Shift Lever Position', 'Throttle Position',\n",
    "        'Percent Engine Load At Current Engine Speed',\n",
    "         'Air Filter #1 Restriction ',\n",
    "         'Air Filter #4 Restriction ', 'Air Filter #3 Restriction',\n",
    "         'Air Filter #2 Restriction ', \n",
    "        'Percent Fuel Position', 'Fuel Rail Pressure','Fuel Consumption Rate']\n",
    "\n",
    "# Filtrar el DataFrame para incluir solo las variables de interés\n",
    "datos_subset = datos_equipo_32[variables_a_analizar]\n",
    "\n",
    "# Crear una matriz de correlación para el subconjunto de variables\n",
    "matriz_correlacion = datos_subset.corr()\n",
    "\n",
    "# Configurar el estilo de Seaborn\n",
    "sns.set(style=\"whitegrid\")\n",
    "\n",
    "# Aumentar el tamaño del gráfico para mostrar más detalles\n",
    "plt.figure(figsize=(25, 8))  #ancho * altura\n",
    "\n",
    "# Crear un mapa de calor (heatmap) de la matriz de correlación con desplazamiento habilitado\n",
    "ax = sns.heatmap(matriz_correlacion, annot=True, fmt=\".2f\", cmap=\"coolwarm\", linewidths=.5)\n",
    "\n",
    "# Agregar etiquetas a los ejes X e Y\n",
    "ax.set_xticklabels(ax.get_xticklabels(), rotation=45, horizontalalignment='right', fontsize=8)\n",
    "ax.set_yticklabels(ax.get_yticklabels(), rotation=0, horizontalalignment='right', fontsize=8)\n",
    "\n",
    "# Ajustar el tamaño de las fuentes de los nombres de las variables (eje x)\n",
    "ax.tick_params(axis='x', labelsize=12)\n",
    "\n",
    "# Ajustar el tamaño de las fuentes de los nombres de las variables (eje y)\n",
    "ax.tick_params(axis='y', labelsize=12)\n",
    "\n",
    "plt.title(\"Matriz de Correlación Variables\")\n",
    "plt.show()"
   ]
  },
  {
   "cell_type": "markdown",
   "metadata": {
    "application/vnd.databricks.v1+cell": {
     "cellMetadata": {},
     "inputWidgets": {},
     "nuid": "e835baad-2784-4148-9c9d-93e50e611fc9",
     "showTitle": false,
     "title": ""
    }
   },
   "source": [
    "### 4.3 Ver la varianza de mis variables"
   ]
  },
  {
   "cell_type": "code",
   "execution_count": 0,
   "metadata": {
    "application/vnd.databricks.v1+cell": {
     "cellMetadata": {},
     "inputWidgets": {},
     "nuid": "faa480a7-9410-477f-85c9-82b0434b744e",
     "showTitle": false,
     "title": ""
    }
   },
   "outputs": [],
   "source": [
    "datos_varianza=datos_equipo_32[['x', 'y', 'z', \n",
    "        #'eq_id', \n",
    "       'id_trabaj_t',\n",
    "       'tramosidsnew_t', \n",
    "        #'Status Truck', '\n",
    "        'Left Rear Axle Rpm',\n",
    "       'Right Rear Axle Rpm', 'Left Exhaust Temperature',\n",
    "       'Right Exhaust Temperature', 'Left Rear Parking Brake Oil Pressure',\n",
    "       'Right Rear Parking Brake Oil Pressure', 'Parking Brake',\n",
    "       'Brake Pump Pressure', 'Engine Oil Pressure', 'Actual Gear',\n",
    "       'Ground Speed', 'Engine Speed', 'Transmission Input Speed',\n",
    "       'Shift Lever Position', 'Throttle Position',\n",
    "       'Percent Engine Load At Current Engine Speed', 'Truck Payload',\n",
    "       'Transmission Output Speed', 'Transmission Output Speed #1',\n",
    "       'Transmission Output Speed #2', 'Air Filter #1 Restriction ',\n",
    "       'Air Filter #4 Restriction ', 'Air Filter #3 Restriction',\n",
    "       'Air Filter #2 Restriction ', 'Tank Fuel Level',\n",
    "       'Percent Fuel Position', 'Fuel Rail Pressure',\n",
    "       'Cargando', 'Viaje Descargado', 'Viaje Cargado', 'Descarga']]"
   ]
  },
  {
   "cell_type": "code",
   "execution_count": 0,
   "metadata": {
    "application/vnd.databricks.v1+cell": {
     "cellMetadata": {},
     "inputWidgets": {},
     "nuid": "3f005321-0ec7-4019-b47f-44506d96cd09",
     "showTitle": false,
     "title": ""
    }
   },
   "outputs": [],
   "source": [
    "desviacion_estandar_sorted"
   ]
  },
  {
   "cell_type": "code",
   "execution_count": 0,
   "metadata": {
    "application/vnd.databricks.v1+cell": {
     "cellMetadata": {},
     "inputWidgets": {},
     "nuid": "b12769ed-070c-4e8f-b244-56ed2640fb6f",
     "showTitle": false,
     "title": ""
    }
   },
   "outputs": [],
   "source": [
    "import pandas as pd\n",
    "import numpy as np\n",
    "import matplotlib.pyplot as plt\n",
    "\n",
    "# Calcular la varianza de cada columna\n",
    "desviacion_estandar = np.sqrt(datos_varianza.var())  #desviacion estandar \n",
    "\n",
    "# Redondear la varianza a 2 decimales\n",
    "#variance_rounded = variance.round(2)\n",
    "\n",
    "# Ordenar las varianzas de mayor a menor\n",
    "desviacion_estandar_sorted = desviacion_estandar.sort_values(ascending=False)\n",
    "\n",
    "# Graficar los resultados\n",
    "plt.figure(figsize=(10, 6))\n",
    "desviacion_estandar_sorted.plot(kind='bar')\n",
    "plt.title('Varianza de Variables del DataFrame')\n",
    "plt.xlabel('Variables')\n",
    "plt.ylabel('Varianza')\n",
    "# plt.xticks(rotation=45)\n",
    "plt.show()"
   ]
  },
  {
   "cell_type": "markdown",
   "metadata": {
    "application/vnd.databricks.v1+cell": {
     "cellMetadata": {},
     "inputWidgets": {},
     "nuid": "50941d55-7106-42cc-a4f9-8e58bc55c458",
     "showTitle": false,
     "title": ""
    }
   },
   "source": [
    "Variables clave para incluir en el modelo serían:\n",
    "- Fuel Rail Pressure (Presión del riel de combustible)\n",
    "- Truck Payload (Carga del camión)\n",
    "- Engine Speed (Velocidad del motor)\n",
    "- Throttle Position (Posición del acelerador)\n",
    "- Percent Engine Load (Carga del motor al % de la velocidad actual)\n",
    "- Ground Speed (Velocidad en tierra)\n",
    "- Percent Fuel Position (porcentaje de la inyección de combustible)\n",
    "- Tank Fuel Level (Nivel del tanque de combustible) **"
   ]
  },
  {
   "cell_type": "markdown",
   "metadata": {
    "application/vnd.databricks.v1+cell": {
     "cellMetadata": {},
     "inputWidgets": {},
     "nuid": "103243fd-4507-46b1-bd8f-602f6076532a",
     "showTitle": false,
     "title": ""
    }
   },
   "source": [
    "## 5. Analisis de Series Temporales"
   ]
  },
  {
   "cell_type": "markdown",
   "metadata": {
    "application/vnd.databricks.v1+cell": {
     "cellMetadata": {},
     "inputWidgets": {},
     "nuid": "f9ebea05-e5b6-49fc-b624-202ffc346d5c",
     "showTitle": false,
     "title": ""
    }
   },
   "source": [
    "#### 5.1 Serie Temporal con datos Originales"
   ]
  },
  {
   "cell_type": "code",
   "execution_count": 0,
   "metadata": {
    "application/vnd.databricks.v1+cell": {
     "cellMetadata": {},
     "inputWidgets": {},
     "nuid": "e1e47180-a444-4769-a297-5883f50e020f",
     "showTitle": false,
     "title": ""
    }
   },
   "outputs": [],
   "source": [
    "import matplotlib.pyplot as plt\n",
    " \n",
    "# Set pyplot style\n",
    "# Plot\n",
    "datos_equipo_28_enero['Fuel Consumption Rate'].plot(title='Consumo Combustible - Time Plot', figsize=(10,6)) # datos_equipo_32['Fuel Consumption Rate'],indica que los valores de esta columna irán en el eje Y\n",
    "plt.ylabel('Consumo Combustible (Galones)')   # X está implícito y toma los valores del índice del DataFrame\n",
    "plt.xlabel('Date')"
   ]
  },
  {
   "cell_type": "markdown",
   "metadata": {
    "application/vnd.databricks.v1+cell": {
     "cellMetadata": {},
     "inputWidgets": {},
     "nuid": "d12ff40f-da3d-4d10-906e-8c40d012d7b4",
     "showTitle": false,
     "title": ""
    }
   },
   "source": [
    "#### 5.2 Gráfico de líneas donde el eje X representa las fechas y el eje Y el consumo de combustible en galones"
   ]
  },
  {
   "cell_type": "markdown",
   "metadata": {
    "application/vnd.databricks.v1+cell": {
     "cellMetadata": {},
     "inputWidgets": {},
     "nuid": "6b7fa605-f99d-4e08-ba02-b00bcba1f607",
     "showTitle": false,
     "title": ""
    }
   },
   "source": [
    "Metodos para Eliminar Ruido de Datos"
   ]
  },
  {
   "cell_type": "markdown",
   "metadata": {
    "application/vnd.databricks.v1+cell": {
     "cellMetadata": {},
     "inputWidgets": {},
     "nuid": "da48db5e-8038-4dfb-b946-6d9d3894ed66",
     "showTitle": false,
     "title": ""
    }
   },
   "source": [
    "1. Suavizado con Media Móvil\n",
    "\n",
    "Por ejemplo si tenemos un consumo por dia, Consumo Diario = [10, 12, 14, 13, 15, 17, 20, 18, 16, 14]\n",
    "- Y decides usar una ventana de 3 días para el suavizado.\n",
    "- Resultados:\n",
    "\n",
    "El primer valor de la serie suavizada será 12 (promedio de los primeros 3 días).\n",
    "El segundo valor será 13 (promedio de los días 2, 3 y 4).\n",
    "Y así sucesivamente."
   ]
  },
  {
   "cell_type": "code",
   "execution_count": 0,
   "metadata": {
    "application/vnd.databricks.v1+cell": {
     "cellMetadata": {},
     "inputWidgets": {},
     "nuid": "4f43a44b-95ec-4a26-a347-92ada044a75a",
     "showTitle": false,
     "title": ""
    }
   },
   "outputs": [],
   "source": [
    "import plotly.graph_objs as go\n",
    "import plotly.express as px\n",
    "\n",
    "# Suavizado con media móvil\n",
    "window_size = 30  # Tamaño de la ventana de la media móvil (puedes ajustar esto según tus datos)\n",
    "datos_equipo_28_enero['Smoothed Fuel Consumption Rate'] = datos_equipo_28_enero['Fuel Consumption Rate'].rolling(window=window_size).mean()\n",
    "\n",
    "# Crear la figura interactiva con Plotly\n",
    "fig = go.Figure()\n",
    "\n",
    "# Agregar la línea del consumo de combustible suavizado\n",
    "fig.add_trace(go.Scatter(\n",
    "    x=datos_equipo_28_enero.index,  # Eje X: Fechas\n",
    "    y=datos_equipo_28_enero['Smoothed Fuel Consumption Rate'],  # Eje Y: Consumo suavizado\n",
    "    mode='lines',\n",
    "    name='Media Móvil',\n",
    "    line=dict(color='orange')\n",
    "))\n",
    "\n",
    "# Crear los ticks manualmente cada 3 días\n",
    "tick_values = pd.date_range(start=datos_equipo_28_enero.index.min(), end=datos_equipo_28_enero.index.max(), freq='2D')\n",
    "\n",
    "# Configurar los títulos y etiquetas de los ejes\n",
    "fig.update_layout(\n",
    "    title='Consumo Combustible - Time Plot',\n",
    "    xaxis_title='Fecha',\n",
    "    yaxis_title='Consumo Combustible (Galones)',\n",
    "    xaxis=dict(\n",
    "        tickformat='%Y-%m-%d',  # Formato para las fechas\n",
    "        tickangle=45,  # Rotar etiquetas del eje X\n",
    "        tickvals=tick_values,  # Colocar etiquetas cada 3 días\n",
    "        #dtick='D3'  # Mostrar cada 7 días en el eje X\n",
    "    ),\n",
    "    autosize=False,\n",
    "    width=1000,\n",
    "    height=600\n",
    ")\n",
    "\n",
    "# Mostrar el gráfico interactivo\n",
    "fig.show()"
   ]
  },
  {
   "cell_type": "markdown",
   "metadata": {
    "application/vnd.databricks.v1+cell": {
     "cellMetadata": {},
     "inputWidgets": {},
     "nuid": "e3c9e4ce-190e-4816-a661-45c6b3f896df",
     "showTitle": false,
     "title": ""
    }
   },
   "source": [
    "### 5.3 Analisis de Tendencia, Estacionalidad, Residuo"
   ]
  },
  {
   "cell_type": "code",
   "execution_count": 0,
   "metadata": {
    "application/vnd.databricks.v1+cell": {
     "cellMetadata": {},
     "inputWidgets": {},
     "nuid": "04843a18-3061-418b-af79-334902534549",
     "showTitle": false,
     "title": ""
    }
   },
   "outputs": [],
   "source": [
    "print(datos_equipo_28_enero.index.freq) # Mostrar la frecuencia establecida"
   ]
  },
  {
   "cell_type": "code",
   "execution_count": 0,
   "metadata": {
    "application/vnd.databricks.v1+cell": {
     "cellMetadata": {},
     "inputWidgets": {},
     "nuid": "60ded4e8-3b02-43c0-a46e-00e281c7ca30",
     "showTitle": false,
     "title": ""
    }
   },
   "outputs": [],
   "source": [
    "import pandas as pd\n",
    "\n",
    "# Suponiendo que tu índice es un DatetimeIndex\n",
    "# Asegúrate de que el índice esté en formato DatetimeIndex\n",
    "datos_equipo_28_enero_sin_duplicados.index = pd.to_datetime(datos_equipo_28_enero_sin_duplicados.index)\n",
    "\n",
    "# Reindexar para establecer una frecuencia de 2 minutos\n",
    "datos_reindexados = datos_equipo_28_enero_sin_duplicados.resample('2T').mean()\n",
    "\n",
    "# Mostrar las primeras filas del DataFrame reindexado\n",
    "print(datos_reindexados.head())"
   ]
  },
  {
   "cell_type": "code",
   "execution_count": 0,
   "metadata": {
    "application/vnd.databricks.v1+cell": {
     "cellMetadata": {},
     "inputWidgets": {},
     "nuid": "5dae4438-9700-4fe7-95a8-aaaac1401f52",
     "showTitle": false,
     "title": ""
    }
   },
   "outputs": [],
   "source": [
    "# Interpolación para llenar valores faltantes\n",
    "datos_interpolados = datos_reindexados.interpolate(method='linear')\n",
    "\n",
    "# Alternativamente, puedes usar el método de llenado hacia adelante o hacia atrás\n",
    "# datos_interpolados = datos_reindexados.fillna(method='ffill')  # Llenar hacia adelante\n",
    "# datos_interpolados = datos_reindexados.fillna(method='bfill')  # Llenar hacia atrás\n",
    "\n",
    "# Mostrar las primeras filas del DataFrame con interpolación\n",
    "print(datos_interpolados.head())"
   ]
  },
  {
   "cell_type": "code",
   "execution_count": 0,
   "metadata": {
    "application/vnd.databricks.v1+cell": {
     "cellMetadata": {},
     "inputWidgets": {},
     "nuid": "8d94237c-cf43-4a61-9fa3-597a7963005d",
     "showTitle": false,
     "title": ""
    }
   },
   "outputs": [],
   "source": [
    "# Calcular las diferencias entre fechas consecutivas\n",
    "intervalos = datos_equipo_28_enero.index.to_series().diff().dropna()\n",
    "\n",
    "# Mostrar las primeras diferencias para ver los intervalos\n",
    "intervalos.value_counts()"
   ]
  },
  {
   "cell_type": "code",
   "execution_count": 0,
   "metadata": {
    "application/vnd.databricks.v1+cell": {
     "cellMetadata": {},
     "inputWidgets": {},
     "nuid": "50c202c7-7350-47e0-bc13-e45a595c14ac",
     "showTitle": false,
     "title": ""
    }
   },
   "outputs": [],
   "source": [
    "# Calcular las diferencias entre fechas consecutivas\n",
    "intervalos3 = datos_filtros.index.to_series().diff().dropna()\n",
    "\n",
    "# Mostrar las primeras diferencias para ver los intervalos\n",
    "intervalos3.value_counts()"
   ]
  },
  {
   "cell_type": "code",
   "execution_count": 0,
   "metadata": {
    "application/vnd.databricks.v1+cell": {
     "cellMetadata": {},
     "inputWidgets": {},
     "nuid": "64791d20-a2c1-4a54-b7f0-d217924d3dbc",
     "showTitle": false,
     "title": ""
    }
   },
   "outputs": [],
   "source": [
    "# Calcular las diferencias entre fechas consecutivas\n",
    "intervalos2 = datos_equipo_28_enero_sin_duplicados.index.to_series().diff().dropna()\n",
    "\n",
    "# Mostrar las primeras diferencias para ver los intervalos\n",
    "intervalos2.value_counts()"
   ]
  },
  {
   "cell_type": "code",
   "execution_count": 0,
   "metadata": {
    "application/vnd.databricks.v1+cell": {
     "cellMetadata": {},
     "inputWidgets": {},
     "nuid": "0ba08df2-ea0e-4d57-a1f2-bcba21a826c1",
     "showTitle": false,
     "title": ""
    }
   },
   "outputs": [],
   "source": [
    "# Eliminar duplicados conservando solo la primera ocurrencia\n",
    "datos_equipo_28_enero_sin_duplicados = datos_equipo_28_enero[~datos_equipo_28_enero.index.duplicated(keep='first')]\n",
    "\n",
    "# Mostrar las primeras filas del DataFrame limpio\n",
    "datos_equipo_28_enero_sin_duplicados.head()"
   ]
  },
  {
   "cell_type": "code",
   "execution_count": 0,
   "metadata": {
    "application/vnd.databricks.v1+cell": {
     "cellMetadata": {},
     "inputWidgets": {},
     "nuid": "a8414abf-2e23-48e7-949e-b9a4f37f3b0b",
     "showTitle": false,
     "title": ""
    }
   },
   "outputs": [],
   "source": [
    "# Calcular las diferencias entre marcas de tiempo consecutivas\n",
    "diferencias = datos_equipo_28_enero_sin_duplicados.index.to_series().diff()\n",
    "\n",
    "# Filtrar solo las diferencias de exactamente 2 minutos (120 segundos)\n",
    "diferencia_2_minutos = pd.Timedelta(minutes=2)\n",
    "\n",
    "# Seleccionar las filas donde la diferencia entre las marcas de tiempo es exactamente 2 minutos\n",
    "datos_filtros = datos_equipo_28_enero_sin_duplicados[diferencias == diferencia_2_minutos]\n",
    "\n",
    "# También puede que desees incluir el primer registro, que no tiene diferencia de tiempo con el anterior\n",
    "datos_filtros = pd.concat([datos_filtros, datos_equipo_28_enero_sin_duplicados.iloc[[0]]])\n",
    "\n",
    "# Mostrar las primeras filas del DataFrame filtrado\n",
    "datos_filtros.head()"
   ]
  },
  {
   "cell_type": "code",
   "execution_count": 0,
   "metadata": {
    "application/vnd.databricks.v1+cell": {
     "cellMetadata": {},
     "inputWidgets": {},
     "nuid": "e68ce44f-d3fe-40b0-9cc9-72db041d1e26",
     "showTitle": false,
     "title": ""
    }
   },
   "outputs": [],
   "source": [
    "datos_equipo_28_enero.shape,datos_equipo_28_enero_sin_duplicados.shape"
   ]
  },
  {
   "cell_type": "code",
   "execution_count": 0,
   "metadata": {
    "application/vnd.databricks.v1+cell": {
     "cellMetadata": {},
     "inputWidgets": {},
     "nuid": "67261d13-f677-4d34-bc73-92525256fe0d",
     "showTitle": false,
     "title": ""
    }
   },
   "outputs": [],
   "source": [
    "datos_filtros.index"
   ]
  },
  {
   "cell_type": "code",
   "execution_count": 0,
   "metadata": {
    "application/vnd.databricks.v1+cell": {
     "cellMetadata": {},
     "inputWidgets": {},
     "nuid": "447c61db-3146-4f6a-ab80-80e58d8c6648",
     "showTitle": false,
     "title": ""
    }
   },
   "outputs": [],
   "source": [
    "datos_equipo_32 = datos_equipo_32.asfreq('2T')  # Ajusta '2T' según la frecuencia real de tus datos"
   ]
  },
  {
   "cell_type": "code",
   "execution_count": 0,
   "metadata": {
    "application/vnd.databricks.v1+cell": {
     "cellMetadata": {},
     "inputWidgets": {},
     "nuid": "7ff3ba29-fb78-4724-92b9-8c2ed65dd140",
     "showTitle": false,
     "title": ""
    }
   },
   "outputs": [],
   "source": [
    "from statsmodels.tsa.seasonal import STL\n",
    "import matplotlib.pyplot as plt\n",
    "\n",
    "\n",
    "# Asegúrate de que el índice es de tipo DatetimeIndex\n",
    "# datos_equipo_32.index = pd.to_datetime(datos_equipo_32.index)\n",
    "\n",
    "window_size = 15\n",
    "\n",
    "# Define el período de estacionalidad (por ejemplo, si los datos son diarios y la estacionalidad es semanal, el período sería 7)\n",
    "seasonal_period = 2 # Ajusta este valor según la estacionalidad de tus datos\n",
    "\n",
    "# Descomposición STL\n",
    "stl = STL(datos_equipo_32['Fuel Consumption Rate'], period=seasonal_period, seasonal=window_size)\n",
    "result = stl.fit()\n",
    "\n",
    "# Graficar la tendencia, estacionalidad y residuos\n",
    "plt.figure(figsize=(12,8))\n",
    "plt.subplot(3,1,1)\n",
    "plt.plot(result.trend, label='Tendencia')\n",
    "plt.legend()\n",
    "plt.subplot(3,1,2)\n",
    "plt.plot(result.seasonal, label='Estacionalidad')\n",
    "plt.legend()\n",
    "plt.subplot(3,1,3)\n",
    "plt.plot(result.resid, label='Residuo')\n",
    "plt.legend()\n",
    "plt.tight_layout()\n",
    "plt.show()"
   ]
  },
  {
   "cell_type": "markdown",
   "metadata": {
    "application/vnd.databricks.v1+cell": {
     "cellMetadata": {},
     "inputWidgets": {},
     "nuid": "a4eee8bd-68af-449c-bdc4-475ae25eadb3",
     "showTitle": false,
     "title": ""
    }
   },
   "source": [
    "### 5.4 Analisis Autoregresivo de la Serie Temporal"
   ]
  },
  {
   "cell_type": "code",
   "execution_count": 0,
   "metadata": {
    "application/vnd.databricks.v1+cell": {
     "cellMetadata": {},
     "inputWidgets": {},
     "nuid": "c106ec6a-53f6-4c55-bc84-0ed7cc157d50",
     "showTitle": false,
     "title": ""
    }
   },
   "outputs": [],
   "source": [
    "# Hacer un gráfico de autocorrelación para la serie de consumo de combustible\n",
    "plot_acf(datos_equipo_32['Fuel Consumption Rate'], lags=40)  # 'lags=40' son los retardos\n",
    "plt.title('Autocorrelación del Consumo de Combustible')\n",
    "plt.show()"
   ]
  },
  {
   "cell_type": "code",
   "execution_count": 0,
   "metadata": {
    "application/vnd.databricks.v1+cell": {
     "cellMetadata": {},
     "inputWidgets": {},
     "nuid": "3eac0388-b8f4-4671-b3c1-92d4f06a50ba",
     "showTitle": false,
     "title": ""
    }
   },
   "outputs": [],
   "source": [
    "!pip list"
   ]
  },
  {
   "cell_type": "code",
   "execution_count": 0,
   "metadata": {
    "application/vnd.databricks.v1+cell": {
     "cellMetadata": {},
     "inputWidgets": {},
     "nuid": "11669647-f928-466a-a112-5941d95feb1c",
     "showTitle": false,
     "title": ""
    }
   },
   "outputs": [],
   "source": [
    "from kafka import KafkaConsumer\n",
    "from kafka import KafkaProducer\n",
    "from langchain.document_loaders import WebBaseLoader"
   ]
  }
 ],
 "metadata": {
  "application/vnd.databricks.v1+notebook": {
   "dashboards": [],
   "environmentMetadata": null,
   "language": "python",
   "notebookMetadata": {
    "pythonIndentUnit": 4
   },
   "notebookName": "4.desarrollo_modelo",
   "widgets": {}
  },
  "kernelspec": {
   "display_name": "Python 3 (ipykernel)",
   "language": "python",
   "name": "python3"
  },
  "language_info": {
   "codemirror_mode": {
    "name": "ipython",
    "version": 3
   },
   "file_extension": ".py",
   "mimetype": "text/x-python",
   "name": "python",
   "nbconvert_exporter": "python",
   "pygments_lexer": "ipython3",
   "version": "3.11.10"
  }
 },
 "nbformat": 4,
 "nbformat_minor": 0
}
